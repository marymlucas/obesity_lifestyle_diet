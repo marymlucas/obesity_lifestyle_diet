{
  "nbformat": 4,
  "nbformat_minor": 0,
  "metadata": {
    "colab": {
      "name": "project.ipynb",
      "provenance": [],
      "authorship_tag": "ABX9TyO3Bkb9737J0jd6KBMnCKnP",
      "include_colab_link": true
    },
    "kernelspec": {
      "name": "python3",
      "display_name": "Python 3"
    },
    "language_info": {
      "name": "python"
    }
  },
  "cells": [
    {
      "cell_type": "markdown",
      "metadata": {
        "id": "view-in-github",
        "colab_type": "text"
      },
      "source": [
        "<a href=\"https://colab.research.google.com/github/marymlucas/obesity_lifestyle_diet/blob/main/project.ipynb\" target=\"_parent\"><img src=\"https://colab.research.google.com/assets/colab-badge.svg\" alt=\"Open In Colab\"/></a>"
      ]
    },
    {
      "cell_type": "markdown",
      "source": [
        "##Project - Predict obesity of individuals based on diet and lifestyle habits"
      ],
      "metadata": {
        "id": "YZjd7iWyCVkm"
      }
    },
    {
      "cell_type": "code",
      "execution_count": 1,
      "metadata": {
        "id": "PNtHXtvCYpLy"
      },
      "outputs": [],
      "source": [
        "!apt-get install openjdk-8-jdk-headless -qq > /dev/null\n"
      ]
    },
    {
      "cell_type": "code",
      "source": [
        "!wget https://dlcdn.apache.org/spark/spark-3.0.3/spark-3.0.3-bin-hadoop2.7.tgz"
      ],
      "metadata": {
        "colab": {
          "base_uri": "https://localhost:8080/"
        },
        "id": "8FLFtODfYzR1",
        "outputId": "c4885e9b-40c2-4d69-fbb2-e76593b50af6"
      },
      "execution_count": 2,
      "outputs": [
        {
          "output_type": "stream",
          "name": "stdout",
          "text": [
            "--2022-03-07 01:43:42--  https://dlcdn.apache.org/spark/spark-3.0.3/spark-3.0.3-bin-hadoop2.7.tgz\n",
            "Resolving dlcdn.apache.org (dlcdn.apache.org)... 151.101.2.132, 2a04:4e42::644\n",
            "Connecting to dlcdn.apache.org (dlcdn.apache.org)|151.101.2.132|:443... connected.\n",
            "HTTP request sent, awaiting response... 200 OK\n",
            "Length: 220400553 (210M) [application/x-gzip]\n",
            "Saving to: ‘spark-3.0.3-bin-hadoop2.7.tgz.1’\n",
            "\n",
            "spark-3.0.3-bin-had 100%[===================>] 210.19M   142MB/s    in 1.5s    \n",
            "\n",
            "2022-03-07 01:43:44 (142 MB/s) - ‘spark-3.0.3-bin-hadoop2.7.tgz.1’ saved [220400553/220400553]\n",
            "\n"
          ]
        }
      ]
    },
    {
      "cell_type": "code",
      "source": [
        "!tar xf spark-3.0.3-bin-hadoop2.7.tgz"
      ],
      "metadata": {
        "id": "4vqCfwnpawG1"
      },
      "execution_count": 3,
      "outputs": []
    },
    {
      "cell_type": "code",
      "source": [
        "!pip install -q findspark"
      ],
      "metadata": {
        "id": "Mxg9q5JdcA0j"
      },
      "execution_count": 4,
      "outputs": []
    },
    {
      "cell_type": "code",
      "source": [
        "!pip install pyspark==3.0.3"
      ],
      "metadata": {
        "colab": {
          "base_uri": "https://localhost:8080/"
        },
        "id": "yQJHrvQ_cHiK",
        "outputId": "cbbad14d-6097-4d46-c68a-a595fb157504"
      },
      "execution_count": 5,
      "outputs": [
        {
          "output_type": "stream",
          "name": "stdout",
          "text": [
            "Requirement already satisfied: pyspark==3.0.3 in /usr/local/lib/python3.7/dist-packages (3.0.3)\n",
            "Requirement already satisfied: py4j==0.10.9 in /usr/local/lib/python3.7/dist-packages (from pyspark==3.0.3) (0.10.9)\n"
          ]
        }
      ]
    },
    {
      "cell_type": "code",
      "source": [
        "import os\n",
        "os.environ[\"JAVA_HOME\"] = \"/usr/lib/jvm/java-8-openjdk-amd64\"\n",
        "os.environ[\"SPARK_HOME\"] = \"spark-3.0.3-bin-hadoop2.7\""
      ],
      "metadata": {
        "id": "pdROnL5icb3x"
      },
      "execution_count": 6,
      "outputs": []
    },
    {
      "cell_type": "code",
      "source": [
        "from google.colab import drive\n",
        "drive.mount('/content/drive')"
      ],
      "metadata": {
        "id": "kXbiBn7TlTlj",
        "colab": {
          "base_uri": "https://localhost:8080/"
        },
        "outputId": "bdb6f738-1937-4d3c-ea12-35965d76e557"
      },
      "execution_count": 7,
      "outputs": [
        {
          "output_type": "stream",
          "name": "stdout",
          "text": [
            "Drive already mounted at /content/drive; to attempt to forcibly remount, call drive.mount(\"/content/drive\", force_remount=True).\n"
          ]
        }
      ]
    },
    {
      "cell_type": "code",
      "execution_count": 8,
      "metadata": {
        "id": "VU8kC2nJTUdB"
      },
      "outputs": [],
      "source": [
        "from pyspark.sql import SparkSession"
      ]
    },
    {
      "cell_type": "code",
      "execution_count": 9,
      "metadata": {
        "id": "flNZrdlNDuas"
      },
      "outputs": [],
      "source": [
        "spark = SparkSession.builder.appName('DSCI632 - Final Project').getOrCreate()"
      ]
    },
    {
      "cell_type": "code",
      "source": [
        "import pandas as pd\n",
        "import numpy as np"
      ],
      "metadata": {
        "id": "SxvIeKvZD0U6"
      },
      "execution_count": 10,
      "outputs": []
    },
    {
      "cell_type": "markdown",
      "metadata": {
        "id": "ty-Hw33MVk3v"
      },
      "source": [
        "# Data Import and Exploration"
      ]
    },
    {
      "cell_type": "code",
      "execution_count": 11,
      "metadata": {
        "id": "aYIxVdzxKI6e"
      },
      "outputs": [],
      "source": [
        "raw_data = spark.read.format('csv').option('header', 'true').option('inferSchema', 'true').load('/content/drive/MyDrive/Colab Notebooks/DSCI-632/project/data/ObesityDataSet_raw_and_data_sinthetic.csv')"
      ]
    },
    {
      "cell_type": "code",
      "source": [
        "raw_data.show(5)"
      ],
      "metadata": {
        "colab": {
          "base_uri": "https://localhost:8080/"
        },
        "id": "Fp-b1zMuDhbE",
        "outputId": "66347b7e-e666-4fc7-8769-b90fd2bec803"
      },
      "execution_count": 12,
      "outputs": [
        {
          "output_type": "stream",
          "name": "stdout",
          "text": [
            "+------+----+------+------+------------------------------+----+----+---+---------+-----+----+---+---+---+----------+--------------------+-------------------+\n",
            "|Gender| Age|Height|Weight|family_history_with_overweight|FAVC|FCVC|NCP|     CAEC|SMOKE|CH2O|SCC|FAF|TUE|      CALC|              MTRANS|         NObeyesdad|\n",
            "+------+----+------+------+------------------------------+----+----+---+---------+-----+----+---+---+---+----------+--------------------+-------------------+\n",
            "|Female|21.0|  1.62|  64.0|                           yes|  no| 2.0|3.0|Sometimes|   no| 2.0| no|0.0|1.0|        no|Public_Transporta...|      Normal_Weight|\n",
            "|Female|21.0|  1.52|  56.0|                           yes|  no| 3.0|3.0|Sometimes|  yes| 3.0|yes|3.0|0.0| Sometimes|Public_Transporta...|      Normal_Weight|\n",
            "|  Male|23.0|   1.8|  77.0|                           yes|  no| 2.0|3.0|Sometimes|   no| 2.0| no|2.0|1.0|Frequently|Public_Transporta...|      Normal_Weight|\n",
            "|  Male|27.0|   1.8|  87.0|                            no|  no| 3.0|3.0|Sometimes|   no| 2.0| no|2.0|0.0|Frequently|             Walking| Overweight_Level_I|\n",
            "|  Male|22.0|  1.78|  89.8|                            no|  no| 2.0|1.0|Sometimes|   no| 2.0| no|0.0|0.0| Sometimes|Public_Transporta...|Overweight_Level_II|\n",
            "+------+----+------+------+------------------------------+----+----+---+---------+-----+----+---+---+---+----------+--------------------+-------------------+\n",
            "only showing top 5 rows\n",
            "\n"
          ]
        }
      ]
    },
    {
      "cell_type": "code",
      "source": [
        "# the data attributes and types are in the top part of the arff file\n",
        "!pip install liac-arff"
      ],
      "metadata": {
        "colab": {
          "base_uri": "https://localhost:8080/"
        },
        "id": "jqiKhRPoFavL",
        "outputId": "2facb619-a332-44b5-9868-26dffd78e8dc"
      },
      "execution_count": 13,
      "outputs": [
        {
          "output_type": "stream",
          "name": "stdout",
          "text": [
            "Requirement already satisfied: liac-arff in /usr/local/lib/python3.7/dist-packages (2.5.0)\n"
          ]
        }
      ]
    },
    {
      "cell_type": "code",
      "source": [
        "import arff\n",
        "\n",
        "with open('/content/drive/MyDrive/Colab Notebooks/DSCI-632/project/data/ObesityDataSet_raw_and_data_sinthetic.arff') as handle:\n",
        "  data = arff.load(handle)\n",
        "\n",
        "#print(data['attributes'])\n",
        "for attribute in data['attributes']:\n",
        "  print(attribute)"
      ],
      "metadata": {
        "colab": {
          "base_uri": "https://localhost:8080/"
        },
        "id": "QVkz3eEiDlJC",
        "outputId": "83e8db9e-3dc8-43e8-9871-425a987190c8"
      },
      "execution_count": 14,
      "outputs": [
        {
          "output_type": "stream",
          "name": "stdout",
          "text": [
            "('Gender', ['Female', 'Male'])\n",
            "('Age', 'NUMERIC')\n",
            "('Height', 'NUMERIC')\n",
            "('Weight', 'NUMERIC')\n",
            "('family_history_with_overweight', ['yes', 'no'])\n",
            "('FAVC', ['yes', 'no'])\n",
            "('FCVC', 'NUMERIC')\n",
            "('NCP', 'NUMERIC')\n",
            "('CAEC', ['no', 'Sometimes', 'Frequently', 'Always'])\n",
            "('SMOKE', ['yes', 'no'])\n",
            "('CH2O', 'NUMERIC')\n",
            "('SCC', ['yes', 'no'])\n",
            "('FAF', 'NUMERIC')\n",
            "('TUE', 'NUMERIC')\n",
            "('CALC', ['no', 'Sometimes', 'Frequently', 'Always'])\n",
            "('MTRANS', ['Automobile', 'Motorbike', 'Bike', 'Public_Transportation', 'Walking'])\n",
            "('NObeyesdad', ['Insufficient_Weight', 'Normal_Weight', 'Overweight_Level_I', 'Overweight_Level_II', 'Obesity_Type_I', 'Obesity_Type_II', 'Obesity_Type_III'])\n"
          ]
        }
      ]
    },
    {
      "cell_type": "markdown",
      "source": [
        "According to Palechor and de la Hoz Manotas (2019), the attributes related with eating habits are: \n",
        "- Frequent consumption of high caloric food (FAVC) \n",
        "- Frequency of consumption of vegetables (FCVC) \n",
        "- Number of main meals (NCP)\n",
        "- Consumption of food between meals (CAEC) \n",
        "- Consumption of water daily (CH20) \n",
        "- Consumption of alcohol (CALC)\n",
        "\n",
        "The attributes related with the physical condition are: \n",
        "- Calories consumption monitoring (SCC) \n",
        "- Physical activity frequency (FAF) \n",
        "- Time using technology devices (TUE) \n",
        "- Transportation used (MTRANS)\n",
        "\n",
        "Other variables included are: \n",
        "- Gender \n",
        "- Age\n",
        "- Height\n",
        "- Weight \n",
        "\n",
        "Finally, all data is labeled and the class variable NObesity has values: \n",
        "1. Insufficient Weight\n",
        "2. Normal Weight\n",
        "3. Overweight Level I\n",
        "4. Overweight Level II\n",
        "5. Obesity Type I\n",
        "6. Obesity Type II and \n",
        "7. Obesity Type III \n",
        "\n",
        "based on the equation Mass Body Index = Weight / (weight * height) and information from WHO and Mexican Normativity. "
      ],
      "metadata": {
        "id": "0wMmitwxw8GZ"
      }
    },
    {
      "cell_type": "markdown",
      "source": [
        "## EXPLORATORY DATA ANALYSIS"
      ],
      "metadata": {
        "id": "PkaAvQsYCiCX"
      }
    },
    {
      "cell_type": "code",
      "source": [
        "# Shape of data and missingness\n",
        "print((raw_data.count(), len(raw_data.columns)))\n"
      ],
      "metadata": {
        "id": "AV6tG_3JWMEr",
        "colab": {
          "base_uri": "https://localhost:8080/"
        },
        "outputId": "2ec9077b-0dd0-475f-eec1-2698a8f57c18"
      },
      "execution_count": 15,
      "outputs": [
        {
          "output_type": "stream",
          "name": "stdout",
          "text": [
            "(2111, 17)\n"
          ]
        }
      ]
    },
    {
      "cell_type": "code",
      "source": [
        "# check for missing values\n",
        "from pyspark.sql.functions import col,isnan, when, count\n",
        "raw_data.select([count(when(isnan(c) | col(c).isNull(), c)).alias(c) for c in raw_data.columns]).show()"
      ],
      "metadata": {
        "colab": {
          "base_uri": "https://localhost:8080/"
        },
        "id": "Td0KZIyFzbLb",
        "outputId": "273589de-68df-4da4-e300-286fdd2f0f33"
      },
      "execution_count": 16,
      "outputs": [
        {
          "output_type": "stream",
          "name": "stdout",
          "text": [
            "+------+---+------+------+------------------------------+----+----+---+----+-----+----+---+---+---+----+------+----------+\n",
            "|Gender|Age|Height|Weight|family_history_with_overweight|FAVC|FCVC|NCP|CAEC|SMOKE|CH2O|SCC|FAF|TUE|CALC|MTRANS|NObeyesdad|\n",
            "+------+---+------+------+------------------------------+----+----+---+----+-----+----+---+---+---+----+------+----------+\n",
            "|     0|  0|     0|     0|                             0|   0|   0|  0|   0|    0|   0|  0|  0|  0|   0|     0|         0|\n",
            "+------+---+------+------+------------------------------+----+----+---+----+-----+----+---+---+---+----+------+----------+\n",
            "\n"
          ]
        }
      ]
    },
    {
      "cell_type": "markdown",
      "source": [
        "We find that the data has no missing values so we don't need to worry about imputation."
      ],
      "metadata": {
        "id": "EmNTzZZhzn86"
      }
    },
    {
      "cell_type": "markdown",
      "source": [
        "Check the column types and fix any issues.  "
      ],
      "metadata": {
        "id": "Bbc_wMLzz3MP"
      }
    },
    {
      "cell_type": "code",
      "source": [
        "raw_data.printSchema()"
      ],
      "metadata": {
        "colab": {
          "base_uri": "https://localhost:8080/"
        },
        "id": "tnTF3k3Kzt9r",
        "outputId": "3d582688-c77a-4803-fa2e-1c9696ad9dae"
      },
      "execution_count": 17,
      "outputs": [
        {
          "output_type": "stream",
          "name": "stdout",
          "text": [
            "root\n",
            " |-- Gender: string (nullable = true)\n",
            " |-- Age: double (nullable = true)\n",
            " |-- Height: double (nullable = true)\n",
            " |-- Weight: double (nullable = true)\n",
            " |-- family_history_with_overweight: string (nullable = true)\n",
            " |-- FAVC: string (nullable = true)\n",
            " |-- FCVC: double (nullable = true)\n",
            " |-- NCP: double (nullable = true)\n",
            " |-- CAEC: string (nullable = true)\n",
            " |-- SMOKE: string (nullable = true)\n",
            " |-- CH2O: double (nullable = true)\n",
            " |-- SCC: string (nullable = true)\n",
            " |-- FAF: double (nullable = true)\n",
            " |-- TUE: double (nullable = true)\n",
            " |-- CALC: string (nullable = true)\n",
            " |-- MTRANS: string (nullable = true)\n",
            " |-- NObeyesdad: string (nullable = true)\n",
            "\n"
          ]
        }
      ]
    },
    {
      "cell_type": "markdown",
      "source": [
        "From the description of the questions of the survey data (Table 1) in Palechor and de la Hoz Manotas (2019) we expect the all the attributes to be categorical except for age, height, and weight.\n",
        " \n",
        "Let's check how many unique values are in each column."
      ],
      "metadata": {
        "id": "xSUU9FP42KMx"
      }
    },
    {
      "cell_type": "code",
      "source": [
        "from pyspark.sql.functions import countDistinct\n",
        "raw_data.agg(*(countDistinct(col(c)).alias(c) for c in raw_data.columns)).show()\n"
      ],
      "metadata": {
        "colab": {
          "base_uri": "https://localhost:8080/"
        },
        "id": "uzTv3v_E0Ttc",
        "outputId": "760cecd2-c40e-401e-8a8b-ac6d96060b3d"
      },
      "execution_count": 18,
      "outputs": [
        {
          "output_type": "stream",
          "name": "stdout",
          "text": [
            "+------+----+------+------+------------------------------+----+----+---+----+-----+----+---+----+----+----+------+----------+\n",
            "|Gender| Age|Height|Weight|family_history_with_overweight|FAVC|FCVC|NCP|CAEC|SMOKE|CH2O|SCC| FAF| TUE|CALC|MTRANS|NObeyesdad|\n",
            "+------+----+------+------+------------------------------+----+----+---+----+-----+----+---+----+----+----+------+----------+\n",
            "|     2|1402|  1574|  1525|                             2|   2| 810|635|   4|    2|1268|  2|1190|1129|   4|     5|         7|\n",
            "+------+----+------+------+------------------------------+----+----+---+----+-----+----+---+----+----+----+------+----------+\n",
            "\n"
          ]
        }
      ]
    },
    {
      "cell_type": "markdown",
      "source": [
        "Based on the number of unique values, this doesn't seem to be the case.  FCVC, NCP, CH2O, FAF, and TUE have too many values, and don't correspond to the \"Possible Answers\" expected in the survey per Table 1 in the paper. \n",
        "\n",
        "For example, for FAF (Physical activity frequency) the possible answers are supposed to be: \"I do not have\", '1 or 2 days', '2 or 4 days', '4 or 5 days'.  Therefore there should only be 4 distinct values in this column. But examining it shows:"
      ],
      "metadata": {
        "id": "wdqXXh6tCeHd"
      }
    },
    {
      "cell_type": "code",
      "source": [
        "raw_data.select('FAF').distinct().show()"
      ],
      "metadata": {
        "colab": {
          "base_uri": "https://localhost:8080/"
        },
        "id": "eMaurnVZCcWO",
        "outputId": "bf3e87c5-da69-4b87-c5c6-2d42c7c08801"
      },
      "execution_count": 19,
      "outputs": [
        {
          "output_type": "stream",
          "name": "stdout",
          "text": [
            "+--------+\n",
            "|     FAF|\n",
            "+--------+\n",
            "|1.967973|\n",
            "|0.133398|\n",
            "|0.462951|\n",
            "| 1.97073|\n",
            "|2.876696|\n",
            "|1.416076|\n",
            "|0.855973|\n",
            "|1.018158|\n",
            "|0.747528|\n",
            "| 1.80674|\n",
            "|1.917383|\n",
            "|1.144076|\n",
            "|0.886448|\n",
            "| 0.06275|\n",
            "|1.467863|\n",
            "|0.019404|\n",
            "|1.513029|\n",
            "|0.178023|\n",
            "|0.932792|\n",
            "| 0.94522|\n",
            "+--------+\n",
            "only showing top 20 rows\n",
            "\n"
          ]
        }
      ]
    },
    {
      "cell_type": "code",
      "source": [
        "# looking at all of them:\n",
        "cols_to_check = ['FCVC', 'NCP', 'CH2O', 'FAF', 'TUE']\n",
        "for colName in cols_to_check:\n",
        "  raw_data.select(colName).distinct().show(5)"
      ],
      "metadata": {
        "colab": {
          "base_uri": "https://localhost:8080/"
        },
        "id": "or2LURwkDbJl",
        "outputId": "f716f3d9-5ada-43c3-8946-b6b8c1ffbe27"
      },
      "execution_count": 20,
      "outputs": [
        {
          "output_type": "stream",
          "name": "stdout",
          "text": [
            "+--------+\n",
            "|    FCVC|\n",
            "+--------+\n",
            "| 2.39728|\n",
            "|2.628791|\n",
            "|1.220024|\n",
            "| 2.55996|\n",
            "|1.780746|\n",
            "+--------+\n",
            "only showing top 5 rows\n",
            "\n",
            "+--------+\n",
            "|     NCP|\n",
            "+--------+\n",
            "|2.581015|\n",
            "|3.098399|\n",
            "|2.964024|\n",
            "|1.000414|\n",
            "|2.228113|\n",
            "+--------+\n",
            "only showing top 5 rows\n",
            "\n",
            "+--------+\n",
            "|    CH2O|\n",
            "+--------+\n",
            "|2.566629|\n",
            "|1.145761|\n",
            "|2.721356|\n",
            "|2.111913|\n",
            "|1.753464|\n",
            "+--------+\n",
            "only showing top 5 rows\n",
            "\n",
            "+--------+\n",
            "|     FAF|\n",
            "+--------+\n",
            "|1.967973|\n",
            "|0.133398|\n",
            "|0.462951|\n",
            "| 1.97073|\n",
            "|2.876696|\n",
            "+--------+\n",
            "only showing top 5 rows\n",
            "\n",
            "+--------+\n",
            "|     TUE|\n",
            "+--------+\n",
            "|1.409198|\n",
            "|0.786609|\n",
            "|0.673408|\n",
            "| 0.93648|\n",
            "|0.101867|\n",
            "+--------+\n",
            "only showing top 5 rows\n",
            "\n"
          ]
        }
      ]
    },
    {
      "cell_type": "markdown",
      "source": [
        "We will therefore treat these as numeric attributes."
      ],
      "metadata": {
        "id": "OQBIaFJXD3Gb"
      }
    },
    {
      "cell_type": "markdown",
      "source": [
        "####Exploring the Numeric Attributes:"
      ],
      "metadata": {
        "id": "f25GBX4NPjXZ"
      }
    },
    {
      "cell_type": "markdown",
      "source": [
        "Some basic statistics:"
      ],
      "metadata": {
        "id": "RWtayjCaJEwm"
      }
    },
    {
      "cell_type": "code",
      "source": [
        "raw_data.toPandas().describe()"
      ],
      "metadata": {
        "colab": {
          "base_uri": "https://localhost:8080/",
          "height": 300
        },
        "id": "cplBIe-D3ImQ",
        "outputId": "aff27a0c-4e71-4b08-91c2-4ec08cf053ed"
      },
      "execution_count": 21,
      "outputs": [
        {
          "output_type": "execute_result",
          "data": {
            "text/html": [
              "\n",
              "  <div id=\"df-06ae9a53-0a17-463f-a901-cc6d440d4ff8\">\n",
              "    <div class=\"colab-df-container\">\n",
              "      <div>\n",
              "<style scoped>\n",
              "    .dataframe tbody tr th:only-of-type {\n",
              "        vertical-align: middle;\n",
              "    }\n",
              "\n",
              "    .dataframe tbody tr th {\n",
              "        vertical-align: top;\n",
              "    }\n",
              "\n",
              "    .dataframe thead th {\n",
              "        text-align: right;\n",
              "    }\n",
              "</style>\n",
              "<table border=\"1\" class=\"dataframe\">\n",
              "  <thead>\n",
              "    <tr style=\"text-align: right;\">\n",
              "      <th></th>\n",
              "      <th>Age</th>\n",
              "      <th>Height</th>\n",
              "      <th>Weight</th>\n",
              "      <th>FCVC</th>\n",
              "      <th>NCP</th>\n",
              "      <th>CH2O</th>\n",
              "      <th>FAF</th>\n",
              "      <th>TUE</th>\n",
              "    </tr>\n",
              "  </thead>\n",
              "  <tbody>\n",
              "    <tr>\n",
              "      <th>count</th>\n",
              "      <td>2111.000000</td>\n",
              "      <td>2111.000000</td>\n",
              "      <td>2111.000000</td>\n",
              "      <td>2111.000000</td>\n",
              "      <td>2111.000000</td>\n",
              "      <td>2111.000000</td>\n",
              "      <td>2111.000000</td>\n",
              "      <td>2111.000000</td>\n",
              "    </tr>\n",
              "    <tr>\n",
              "      <th>mean</th>\n",
              "      <td>24.312600</td>\n",
              "      <td>1.701677</td>\n",
              "      <td>86.586058</td>\n",
              "      <td>2.419043</td>\n",
              "      <td>2.685628</td>\n",
              "      <td>2.008011</td>\n",
              "      <td>1.010298</td>\n",
              "      <td>0.657866</td>\n",
              "    </tr>\n",
              "    <tr>\n",
              "      <th>std</th>\n",
              "      <td>6.345968</td>\n",
              "      <td>0.093305</td>\n",
              "      <td>26.191172</td>\n",
              "      <td>0.533927</td>\n",
              "      <td>0.778039</td>\n",
              "      <td>0.612953</td>\n",
              "      <td>0.850592</td>\n",
              "      <td>0.608927</td>\n",
              "    </tr>\n",
              "    <tr>\n",
              "      <th>min</th>\n",
              "      <td>14.000000</td>\n",
              "      <td>1.450000</td>\n",
              "      <td>39.000000</td>\n",
              "      <td>1.000000</td>\n",
              "      <td>1.000000</td>\n",
              "      <td>1.000000</td>\n",
              "      <td>0.000000</td>\n",
              "      <td>0.000000</td>\n",
              "    </tr>\n",
              "    <tr>\n",
              "      <th>25%</th>\n",
              "      <td>19.947192</td>\n",
              "      <td>1.630000</td>\n",
              "      <td>65.473343</td>\n",
              "      <td>2.000000</td>\n",
              "      <td>2.658738</td>\n",
              "      <td>1.584812</td>\n",
              "      <td>0.124505</td>\n",
              "      <td>0.000000</td>\n",
              "    </tr>\n",
              "    <tr>\n",
              "      <th>50%</th>\n",
              "      <td>22.777890</td>\n",
              "      <td>1.700499</td>\n",
              "      <td>83.000000</td>\n",
              "      <td>2.385502</td>\n",
              "      <td>3.000000</td>\n",
              "      <td>2.000000</td>\n",
              "      <td>1.000000</td>\n",
              "      <td>0.625350</td>\n",
              "    </tr>\n",
              "    <tr>\n",
              "      <th>75%</th>\n",
              "      <td>26.000000</td>\n",
              "      <td>1.768464</td>\n",
              "      <td>107.430682</td>\n",
              "      <td>3.000000</td>\n",
              "      <td>3.000000</td>\n",
              "      <td>2.477420</td>\n",
              "      <td>1.666678</td>\n",
              "      <td>1.000000</td>\n",
              "    </tr>\n",
              "    <tr>\n",
              "      <th>max</th>\n",
              "      <td>61.000000</td>\n",
              "      <td>1.980000</td>\n",
              "      <td>173.000000</td>\n",
              "      <td>3.000000</td>\n",
              "      <td>4.000000</td>\n",
              "      <td>3.000000</td>\n",
              "      <td>3.000000</td>\n",
              "      <td>2.000000</td>\n",
              "    </tr>\n",
              "  </tbody>\n",
              "</table>\n",
              "</div>\n",
              "      <button class=\"colab-df-convert\" onclick=\"convertToInteractive('df-06ae9a53-0a17-463f-a901-cc6d440d4ff8')\"\n",
              "              title=\"Convert this dataframe to an interactive table.\"\n",
              "              style=\"display:none;\">\n",
              "        \n",
              "  <svg xmlns=\"http://www.w3.org/2000/svg\" height=\"24px\"viewBox=\"0 0 24 24\"\n",
              "       width=\"24px\">\n",
              "    <path d=\"M0 0h24v24H0V0z\" fill=\"none\"/>\n",
              "    <path d=\"M18.56 5.44l.94 2.06.94-2.06 2.06-.94-2.06-.94-.94-2.06-.94 2.06-2.06.94zm-11 1L8.5 8.5l.94-2.06 2.06-.94-2.06-.94L8.5 2.5l-.94 2.06-2.06.94zm10 10l.94 2.06.94-2.06 2.06-.94-2.06-.94-.94-2.06-.94 2.06-2.06.94z\"/><path d=\"M17.41 7.96l-1.37-1.37c-.4-.4-.92-.59-1.43-.59-.52 0-1.04.2-1.43.59L10.3 9.45l-7.72 7.72c-.78.78-.78 2.05 0 2.83L4 21.41c.39.39.9.59 1.41.59.51 0 1.02-.2 1.41-.59l7.78-7.78 2.81-2.81c.8-.78.8-2.07 0-2.86zM5.41 20L4 18.59l7.72-7.72 1.47 1.35L5.41 20z\"/>\n",
              "  </svg>\n",
              "      </button>\n",
              "      \n",
              "  <style>\n",
              "    .colab-df-container {\n",
              "      display:flex;\n",
              "      flex-wrap:wrap;\n",
              "      gap: 12px;\n",
              "    }\n",
              "\n",
              "    .colab-df-convert {\n",
              "      background-color: #E8F0FE;\n",
              "      border: none;\n",
              "      border-radius: 50%;\n",
              "      cursor: pointer;\n",
              "      display: none;\n",
              "      fill: #1967D2;\n",
              "      height: 32px;\n",
              "      padding: 0 0 0 0;\n",
              "      width: 32px;\n",
              "    }\n",
              "\n",
              "    .colab-df-convert:hover {\n",
              "      background-color: #E2EBFA;\n",
              "      box-shadow: 0px 1px 2px rgba(60, 64, 67, 0.3), 0px 1px 3px 1px rgba(60, 64, 67, 0.15);\n",
              "      fill: #174EA6;\n",
              "    }\n",
              "\n",
              "    [theme=dark] .colab-df-convert {\n",
              "      background-color: #3B4455;\n",
              "      fill: #D2E3FC;\n",
              "    }\n",
              "\n",
              "    [theme=dark] .colab-df-convert:hover {\n",
              "      background-color: #434B5C;\n",
              "      box-shadow: 0px 1px 3px 1px rgba(0, 0, 0, 0.15);\n",
              "      filter: drop-shadow(0px 1px 2px rgba(0, 0, 0, 0.3));\n",
              "      fill: #FFFFFF;\n",
              "    }\n",
              "  </style>\n",
              "\n",
              "      <script>\n",
              "        const buttonEl =\n",
              "          document.querySelector('#df-06ae9a53-0a17-463f-a901-cc6d440d4ff8 button.colab-df-convert');\n",
              "        buttonEl.style.display =\n",
              "          google.colab.kernel.accessAllowed ? 'block' : 'none';\n",
              "\n",
              "        async function convertToInteractive(key) {\n",
              "          const element = document.querySelector('#df-06ae9a53-0a17-463f-a901-cc6d440d4ff8');\n",
              "          const dataTable =\n",
              "            await google.colab.kernel.invokeFunction('convertToInteractive',\n",
              "                                                     [key], {});\n",
              "          if (!dataTable) return;\n",
              "\n",
              "          const docLinkHtml = 'Like what you see? Visit the ' +\n",
              "            '<a target=\"_blank\" href=https://colab.research.google.com/notebooks/data_table.ipynb>data table notebook</a>'\n",
              "            + ' to learn more about interactive tables.';\n",
              "          element.innerHTML = '';\n",
              "          dataTable['output_type'] = 'display_data';\n",
              "          await google.colab.output.renderOutput(dataTable, element);\n",
              "          const docLink = document.createElement('div');\n",
              "          docLink.innerHTML = docLinkHtml;\n",
              "          element.appendChild(docLink);\n",
              "        }\n",
              "      </script>\n",
              "    </div>\n",
              "  </div>\n",
              "  "
            ],
            "text/plain": [
              "               Age       Height       Weight         FCVC          NCP  \\\n",
              "count  2111.000000  2111.000000  2111.000000  2111.000000  2111.000000   \n",
              "mean     24.312600     1.701677    86.586058     2.419043     2.685628   \n",
              "std       6.345968     0.093305    26.191172     0.533927     0.778039   \n",
              "min      14.000000     1.450000    39.000000     1.000000     1.000000   \n",
              "25%      19.947192     1.630000    65.473343     2.000000     2.658738   \n",
              "50%      22.777890     1.700499    83.000000     2.385502     3.000000   \n",
              "75%      26.000000     1.768464   107.430682     3.000000     3.000000   \n",
              "max      61.000000     1.980000   173.000000     3.000000     4.000000   \n",
              "\n",
              "              CH2O          FAF          TUE  \n",
              "count  2111.000000  2111.000000  2111.000000  \n",
              "mean      2.008011     1.010298     0.657866  \n",
              "std       0.612953     0.850592     0.608927  \n",
              "min       1.000000     0.000000     0.000000  \n",
              "25%       1.584812     0.124505     0.000000  \n",
              "50%       2.000000     1.000000     0.625350  \n",
              "75%       2.477420     1.666678     1.000000  \n",
              "max       3.000000     3.000000     2.000000  "
            ]
          },
          "metadata": {},
          "execution_count": 21
        }
      ]
    },
    {
      "cell_type": "code",
      "source": [
        "numeric_attrs_df = raw_data[[\"Age\", \"Height\", \"Weight\", \"FCVC\", \"NCP\", \"CH2O\", \"FAF\", \"TUE\"]]\n",
        "\n",
        "# for doing the visualizations we will convert to pandas dataframe, this is better and more time-efficient than doing .collect()\n",
        "numeric_pd_df = numeric_attrs_df.toPandas()"
      ],
      "metadata": {
        "id": "GAeV9q1gNLfU"
      },
      "execution_count": 22,
      "outputs": []
    },
    {
      "cell_type": "code",
      "source": [
        "import matplotlib.pyplot as plt\n",
        "\n",
        "def plot_dist(colName):\n",
        "  x = numeric_pd_df[colName]\n",
        "\n",
        "  fig, ax = plt.subplots(figsize = (6,4))\n",
        "  x.plot(kind = \"hist\", density = True, alpha = 0.65)\n",
        "  x.plot(kind = 'kde')\n",
        "\n",
        "  ax.set_xlabel(colName)\n",
        "  ax.set_yticks([])\n",
        "  ax.set_ylabel(\"Frequency\")\n",
        "  ax.set_title(\"Distribution of \" + colName)\n",
        "\n",
        "  # Remove ticks and spines\n",
        "  ax.tick_params(left = False, bottom = False)\n",
        "  for ax, spine in ax.spines.items():\n",
        "    spine.set_visible(False)\n",
        "\n",
        "\n",
        "  plt.show()"
      ],
      "metadata": {
        "id": "0t45osciSGPV"
      },
      "execution_count": 23,
      "outputs": []
    },
    {
      "cell_type": "code",
      "source": [
        "cols_to_plot = [\"Age\", \"Height\", \"Weight\"]\n",
        "\n",
        "for colName in cols_to_plot:\n",
        "  plot_dist(colName)"
      ],
      "metadata": {
        "colab": {
          "base_uri": "https://localhost:8080/",
          "height": 851
        },
        "id": "wLltk_bEUPwb",
        "outputId": "0267d9b7-fcdc-4dd6-9ca4-c30334b90a82"
      },
      "execution_count": 24,
      "outputs": [
        {
          "output_type": "display_data",
          "data": {
            "image/png": "[encoded data removed]",
            "text/plain": [
              "<Figure size 432x288 with 1 Axes>"
            ]
          },
          "metadata": {
            "needs_background": "light"
          }
        },
        {
          "output_type": "display_data",
          "data": {
            "image/png": "[encoded data removed]",
            "text/plain": [
              "<Figure size 432x288 with 1 Axes>"
            ]
          },
          "metadata": {
            "needs_background": "light"
          }
        },
        {
          "output_type": "display_data",
          "data": {
            "image/png": "[encoded data removed]",
            "text/plain": [
              "<Figure size 432x288 with 1 Axes>"
            ]
          },
          "metadata": {
            "needs_background": "light"
          }
        }
      ]
    },
    {
      "cell_type": "code",
      "source": [
        "# let's check for outliers in the numerical attributes\n",
        "\n",
        "normalized_data=(numeric_pd_df-numeric_pd_df.mean())/numeric_pd_df.std() #normalize the data to make it easier to visualize in one plot\n",
        "normalized_data.plot(kind='box', vert=False)"
      ],
      "metadata": {
        "colab": {
          "base_uri": "https://localhost:8080/",
          "height": 282
        },
        "id": "l1_9sTGv3xQo",
        "outputId": "b3850e29-4fd3-4d29-a1c9-abb36f04f2a5"
      },
      "execution_count": 25,
      "outputs": [
        {
          "output_type": "execute_result",
          "data": {
            "text/plain": [
              "<matplotlib.axes._subplots.AxesSubplot at 0x7f2d8a2cbf10>"
            ]
          },
          "metadata": {},
          "execution_count": 25
        },
        {
          "output_type": "display_data",
          "data": {
            "image/png": "[encoded data removed]",
            "text/plain": [
              "<Figure size 432x288 with 1 Axes>"
            ]
          },
          "metadata": {
            "needs_background": "light"
          }
        }
      ]
    },
    {
      "cell_type": "markdown",
      "source": [
        "We see some outliers for Age, Height, and Weight, but examining the data (max age 61, max height 1.98 meter, max weight 173kg) these are realistic values given normal age, height, and weight values in the population, so we won't do anything about it. NCP (Number of main meals) also has some outliers, but again looking at the data, the max NCP is 4 and the min is 1. These are also realistic and reasonable values so we will not do anything about them. "
      ],
      "metadata": {
        "id": "yMVMGgI2-y6k"
      }
    },
    {
      "cell_type": "markdown",
      "source": [
        "Looking at the correlation matrix of numerical attributes."
      ],
      "metadata": {
        "id": "8dK87dmzEMXz"
      }
    },
    {
      "cell_type": "code",
      "source": [
        "import seaborn as sns\n",
        "\n",
        "data_corr = numeric_pd_df.corr()\n",
        "\n",
        "plt.figure(figsize = (6, 6))\n",
        "sns.heatmap(data_corr, annot = True, cbar=True, cmap=\"BuGn\", linewidths = 2, linecolor = \"white\")\n",
        "plt.title(\"Correlation matrix of numerical attributes\")\n",
        "plt.show()"
      ],
      "metadata": {
        "id": "By6YctgXRLpe",
        "colab": {
          "base_uri": "https://localhost:8080/",
          "height": 415
        },
        "outputId": "49ee9452-544a-417c-ecb3-d44dfbca015a"
      },
      "execution_count": 26,
      "outputs": [
        {
          "output_type": "display_data",
          "data": {
            "image/png": "[encoded data removed]",
            "text/plain": [
              "<Figure size 432x432 with 2 Axes>"
            ]
          },
          "metadata": {
            "needs_background": "light"
          }
        }
      ]
    },
    {
      "cell_type": "markdown",
      "source": [
        "It doesn't appear that there are any strong correlations between any of the numerical attributes."
      ],
      "metadata": {
        "id": "K2KPGqxYHLFH"
      }
    },
    {
      "cell_type": "markdown",
      "source": [
        "####Exploring the Categorical Attributes:"
      ],
      "metadata": {
        "id": "rG5cXeD1PYY0"
      }
    },
    {
      "cell_type": "markdown",
      "source": [
        "Now we check the distinct values in the categorical attributes:"
      ],
      "metadata": {
        "id": "Fz3sAuYvD-4N"
      }
    },
    {
      "cell_type": "code",
      "source": [
        "cat_cols = ['Gender', 'family_history_with_overweight', 'FAVC', 'CAEC', 'SMOKE', 'SCC', 'CALC', 'MTRANS', 'NObeyesdad']\n",
        "\n",
        "for colName in cat_cols:\n",
        "  raw_data.select(colName).distinct().show()\n"
      ],
      "metadata": {
        "colab": {
          "base_uri": "https://localhost:8080/"
        },
        "id": "uO3ejV2I1m7Z",
        "outputId": "b07ff094-b432-4023-9ab2-72c7cdb58a0b"
      },
      "execution_count": 27,
      "outputs": [
        {
          "output_type": "stream",
          "name": "stdout",
          "text": [
            "+------+\n",
            "|Gender|\n",
            "+------+\n",
            "|Female|\n",
            "|  Male|\n",
            "+------+\n",
            "\n",
            "+------------------------------+\n",
            "|family_history_with_overweight|\n",
            "+------------------------------+\n",
            "|                            no|\n",
            "|                           yes|\n",
            "+------------------------------+\n",
            "\n",
            "+----+\n",
            "|FAVC|\n",
            "+----+\n",
            "|  no|\n",
            "| yes|\n",
            "+----+\n",
            "\n",
            "+----------+\n",
            "|      CAEC|\n",
            "+----------+\n",
            "| Sometimes|\n",
            "|Frequently|\n",
            "|        no|\n",
            "|    Always|\n",
            "+----------+\n",
            "\n",
            "+-----+\n",
            "|SMOKE|\n",
            "+-----+\n",
            "|   no|\n",
            "|  yes|\n",
            "+-----+\n",
            "\n",
            "+---+\n",
            "|SCC|\n",
            "+---+\n",
            "| no|\n",
            "|yes|\n",
            "+---+\n",
            "\n",
            "+----------+\n",
            "|      CALC|\n",
            "+----------+\n",
            "| Sometimes|\n",
            "|Frequently|\n",
            "|        no|\n",
            "|    Always|\n",
            "+----------+\n",
            "\n",
            "+--------------------+\n",
            "|              MTRANS|\n",
            "+--------------------+\n",
            "|                Bike|\n",
            "|             Walking|\n",
            "|          Automobile|\n",
            "|           Motorbike|\n",
            "|Public_Transporta...|\n",
            "+--------------------+\n",
            "\n",
            "+-------------------+\n",
            "|         NObeyesdad|\n",
            "+-------------------+\n",
            "|   Obesity_Type_III|\n",
            "| Overweight_Level_I|\n",
            "|    Obesity_Type_II|\n",
            "|Insufficient_Weight|\n",
            "|Overweight_Level_II|\n",
            "|      Normal_Weight|\n",
            "|     Obesity_Type_I|\n",
            "+-------------------+\n",
            "\n"
          ]
        }
      ]
    },
    {
      "cell_type": "markdown",
      "source": [
        "Check if categorical values are balanced:"
      ],
      "metadata": {
        "id": "m9mu9nFxY2GA"
      }
    },
    {
      "cell_type": "code",
      "source": [
        "for colName in cat_cols:\n",
        "  raw_data.groupby(colName).count().show()"
      ],
      "metadata": {
        "colab": {
          "base_uri": "https://localhost:8080/"
        },
        "id": "jiuJdfLVY689",
        "outputId": "e328988e-5fb7-46df-e86e-116e64e9d123"
      },
      "execution_count": 28,
      "outputs": [
        {
          "output_type": "stream",
          "name": "stdout",
          "text": [
            "+------+-----+\n",
            "|Gender|count|\n",
            "+------+-----+\n",
            "|Female| 1043|\n",
            "|  Male| 1068|\n",
            "+------+-----+\n",
            "\n",
            "+------------------------------+-----+\n",
            "|family_history_with_overweight|count|\n",
            "+------------------------------+-----+\n",
            "|                            no|  385|\n",
            "|                           yes| 1726|\n",
            "+------------------------------+-----+\n",
            "\n",
            "+----+-----+\n",
            "|FAVC|count|\n",
            "+----+-----+\n",
            "|  no|  245|\n",
            "| yes| 1866|\n",
            "+----+-----+\n",
            "\n",
            "+----------+-----+\n",
            "|      CAEC|count|\n",
            "+----------+-----+\n",
            "| Sometimes| 1765|\n",
            "|Frequently|  242|\n",
            "|        no|   51|\n",
            "|    Always|   53|\n",
            "+----------+-----+\n",
            "\n",
            "+-----+-----+\n",
            "|SMOKE|count|\n",
            "+-----+-----+\n",
            "|   no| 2067|\n",
            "|  yes|   44|\n",
            "+-----+-----+\n",
            "\n",
            "+---+-----+\n",
            "|SCC|count|\n",
            "+---+-----+\n",
            "| no| 2015|\n",
            "|yes|   96|\n",
            "+---+-----+\n",
            "\n",
            "+----------+-----+\n",
            "|      CALC|count|\n",
            "+----------+-----+\n",
            "| Sometimes| 1401|\n",
            "|Frequently|   70|\n",
            "|        no|  639|\n",
            "|    Always|    1|\n",
            "+----------+-----+\n",
            "\n",
            "+--------------------+-----+\n",
            "|              MTRANS|count|\n",
            "+--------------------+-----+\n",
            "|                Bike|    7|\n",
            "|             Walking|   56|\n",
            "|          Automobile|  457|\n",
            "|           Motorbike|   11|\n",
            "|Public_Transporta...| 1580|\n",
            "+--------------------+-----+\n",
            "\n",
            "+-------------------+-----+\n",
            "|         NObeyesdad|count|\n",
            "+-------------------+-----+\n",
            "|   Obesity_Type_III|  324|\n",
            "| Overweight_Level_I|  290|\n",
            "|    Obesity_Type_II|  297|\n",
            "|Insufficient_Weight|  272|\n",
            "|Overweight_Level_II|  290|\n",
            "|      Normal_Weight|  287|\n",
            "|     Obesity_Type_I|  351|\n",
            "+-------------------+-----+\n",
            "\n"
          ]
        }
      ]
    },
    {
      "cell_type": "code",
      "source": [
        "for colName in cat_cols:\n",
        "  raw_data.stat.crosstab(colName, \"NObeyesdad\").show()\n"
      ],
      "metadata": {
        "colab": {
          "base_uri": "https://localhost:8080/"
        },
        "id": "iA8Y6kGvWa3i",
        "outputId": "c2c98ac5-0018-4b17-a2b3-a2142b3b46ad"
      },
      "execution_count": 29,
      "outputs": [
        {
          "output_type": "stream",
          "name": "stdout",
          "text": [
            "+-----------------+-------------------+-------------+--------------+---------------+----------------+------------------+-------------------+\n",
            "|Gender_NObeyesdad|Insufficient_Weight|Normal_Weight|Obesity_Type_I|Obesity_Type_II|Obesity_Type_III|Overweight_Level_I|Overweight_Level_II|\n",
            "+-----------------+-------------------+-------------+--------------+---------------+----------------+------------------+-------------------+\n",
            "|             Male|                 99|          146|           195|            295|               1|               145|                187|\n",
            "|           Female|                173|          141|           156|              2|             323|               145|                103|\n",
            "+-----------------+-------------------+-------------+--------------+---------------+----------------+------------------+-------------------+\n",
            "\n",
            "+-----------------------------------------+-------------------+-------------+--------------+---------------+----------------+------------------+-------------------+\n",
            "|family_history_with_overweight_NObeyesdad|Insufficient_Weight|Normal_Weight|Obesity_Type_I|Obesity_Type_II|Obesity_Type_III|Overweight_Level_I|Overweight_Level_II|\n",
            "+-----------------------------------------+-------------------+-------------+--------------+---------------+----------------+------------------+-------------------+\n",
            "|                                       no|                146|          132|             7|              1|               0|                81|                 18|\n",
            "|                                      yes|                126|          155|           344|            296|             324|               209|                272|\n",
            "+-----------------------------------------+-------------------+-------------+--------------+---------------+----------------+------------------+-------------------+\n",
            "\n",
            "+---------------+-------------------+-------------+--------------+---------------+----------------+------------------+-------------------+\n",
            "|FAVC_NObeyesdad|Insufficient_Weight|Normal_Weight|Obesity_Type_I|Obesity_Type_II|Obesity_Type_III|Overweight_Level_I|Overweight_Level_II|\n",
            "+---------------+-------------------+-------------+--------------+---------------+----------------+------------------+-------------------+\n",
            "|             no|                 51|           79|            11|              7|               1|                22|                 74|\n",
            "|            yes|                221|          208|           340|            290|             323|               268|                216|\n",
            "+---------------+-------------------+-------------+--------------+---------------+----------------+------------------+-------------------+\n",
            "\n",
            "+---------------+-------------------+-------------+--------------+---------------+----------------+------------------+-------------------+\n",
            "|CAEC_NObeyesdad|Insufficient_Weight|Normal_Weight|Obesity_Type_I|Obesity_Type_II|Obesity_Type_III|Overweight_Level_I|Overweight_Level_II|\n",
            "+---------------+-------------------+-------------+--------------+---------------+----------------+------------------+-------------------+\n",
            "|     Frequently|                121|           83|             6|              1|               1|                14|                 16|\n",
            "|         Always|                  2|           35|             6|              2|               0|                 5|                  3|\n",
            "|             no|                  3|           10|             1|              1|               0|                35|                  1|\n",
            "|      Sometimes|                146|          159|           338|            293|             323|               236|                270|\n",
            "+---------------+-------------------+-------------+--------------+---------------+----------------+------------------+-------------------+\n",
            "\n",
            "+----------------+-------------------+-------------+--------------+---------------+----------------+------------------+-------------------+\n",
            "|SMOKE_NObeyesdad|Insufficient_Weight|Normal_Weight|Obesity_Type_I|Obesity_Type_II|Obesity_Type_III|Overweight_Level_I|Overweight_Level_II|\n",
            "+----------------+-------------------+-------------+--------------+---------------+----------------+------------------+-------------------+\n",
            "|              no|                271|          274|           345|            282|             323|               287|                285|\n",
            "|             yes|                  1|           13|             6|             15|               1|                 3|                  5|\n",
            "+----------------+-------------------+-------------+--------------+---------------+----------------+------------------+-------------------+\n",
            "\n",
            "+--------------+-------------------+-------------+--------------+---------------+----------------+------------------+-------------------+\n",
            "|SCC_NObeyesdad|Insufficient_Weight|Normal_Weight|Obesity_Type_I|Obesity_Type_II|Obesity_Type_III|Overweight_Level_I|Overweight_Level_II|\n",
            "+--------------+-------------------+-------------+--------------+---------------+----------------+------------------+-------------------+\n",
            "|            no|                250|          257|           349|            296|             324|               253|                286|\n",
            "|           yes|                 22|           30|             2|              1|               0|                37|                  4|\n",
            "+--------------+-------------------+-------------+--------------+---------------+----------------+------------------+-------------------+\n",
            "\n",
            "+---------------+-------------------+-------------+--------------+---------------+----------------+------------------+-------------------+\n",
            "|CALC_NObeyesdad|Insufficient_Weight|Normal_Weight|Obesity_Type_I|Obesity_Type_II|Obesity_Type_III|Overweight_Level_I|Overweight_Level_II|\n",
            "+---------------+-------------------+-------------+--------------+---------------+----------------+------------------+-------------------+\n",
            "|     Frequently|                  1|           18|            14|              2|               0|                16|                 19|\n",
            "|         Always|                  0|            1|             0|              0|               0|                 0|                  0|\n",
            "|             no|                117|          107|           165|             71|               1|                50|                128|\n",
            "|      Sometimes|                154|          161|           172|            224|             323|               224|                143|\n",
            "+---------------+-------------------+-------------+--------------+---------------+----------------+------------------+-------------------+\n",
            "\n",
            "+--------------------+-------------------+-------------+--------------+---------------+----------------+------------------+-------------------+\n",
            "|   MTRANS_NObeyesdad|Insufficient_Weight|Normal_Weight|Obesity_Type_I|Obesity_Type_II|Obesity_Type_III|Overweight_Level_I|Overweight_Level_II|\n",
            "+--------------------+-------------------+-------------+--------------+---------------+----------------+------------------+-------------------+\n",
            "|                Bike|                  0|            4|             0|              1|               0|                 2|                  0|\n",
            "|          Automobile|                 46|           45|           110|             95|               1|                66|                 94|\n",
            "|             Walking|                  6|           32|             2|              1|               0|                 9|                  6|\n",
            "|Public_Transporta...|                220|          200|           236|            200|             323|               212|                189|\n",
            "|           Motorbike|                  0|            6|             3|              0|               0|                 1|                  1|\n",
            "+--------------------+-------------------+-------------+--------------+---------------+----------------+------------------+-------------------+\n",
            "\n",
            "+---------------------+-------------------+-------------+--------------+---------------+----------------+------------------+-------------------+\n",
            "|NObeyesdad_NObeyesdad|Insufficient_Weight|Normal_Weight|Obesity_Type_I|Obesity_Type_II|Obesity_Type_III|Overweight_Level_I|Overweight_Level_II|\n",
            "+---------------------+-------------------+-------------+--------------+---------------+----------------+------------------+-------------------+\n",
            "|      Obesity_Type_II|                  0|            0|             0|            297|               0|                 0|                  0|\n",
            "|  Insufficient_Weight|                272|            0|             0|              0|               0|                 0|                  0|\n",
            "|  Overweight_Level_II|                  0|            0|             0|              0|               0|                 0|                290|\n",
            "|        Normal_Weight|                  0|          287|             0|              0|               0|                 0|                  0|\n",
            "|       Obesity_Type_I|                  0|            0|           351|              0|               0|                 0|                  0|\n",
            "|     Obesity_Type_III|                  0|            0|             0|              0|             324|                 0|                  0|\n",
            "|   Overweight_Level_I|                  0|            0|             0|              0|               0|               290|                  0|\n",
            "+---------------------+-------------------+-------------+--------------+---------------+----------------+------------------+-------------------+\n",
            "\n"
          ]
        }
      ]
    },
    {
      "cell_type": "markdown",
      "source": [
        "Scatter plots to get a visual sense of the relationship of each variable to the target variable."
      ],
      "metadata": {
        "id": "-HvCeHkRqyMX"
      }
    },
    {
      "cell_type": "markdown",
      "source": [
        "##PREDICTING LEVELS OF OBESITY"
      ],
      "metadata": {
        "id": "t2yyet_oRM8h"
      }
    },
    {
      "cell_type": "markdown",
      "source": [
        "Using the SparkML library, I will try different ML models to compare their performance. \n",
        "\n",
        "I will use classification methods - Logistic Regression, Decision Tree, an ensemble approach (Random Forest), and a Naive Bayes implementation.  Two approaches I was hoping to use are Support Vector Machine and Gradient Boosted Trees. However, our taget variable has more than 2 classes and the implementations of these two algorithms in SparkML only support binary classification. Therefore we cannot use use SVM or GBT approach with our data.\n",
        "\n",
        "In summary, the methods I have chosen are:\n",
        "- Logistic Regression\n",
        "- Decision Tree\n",
        "- Random Forests\n",
        "- Naive Bayes\n",
        "\n",
        "For each method I will evaluate the model using the usual metrics - accuracy, precision, recall, F1 score.  Would be good to also calculate auroc but may not be able to as it does not appear to be well covered for multinomial classification in SparkML.\n",
        "\n",
        "The first step will be to build a pipeline for preprocessing the data."
      ],
      "metadata": {
        "id": "vvt3mjn6RVyA"
      }
    },
    {
      "cell_type": "markdown",
      "source": [
        "#### Pipeline for Preprocessing the Data"
      ],
      "metadata": {
        "id": "m78nVwceSfaY"
      }
    },
    {
      "cell_type": "code",
      "source": [
        "from pyspark.ml import Pipeline\n",
        "from pyspark.ml.base import Transformer\n",
        "from pyspark.ml.feature import OneHotEncoder\n",
        "from pyspark.ml.feature import StringIndexer\n",
        "from pyspark.ml.feature import VectorAssembler\n",
        "from pyspark.ml.feature import MaxAbsScaler\n",
        "\n",
        "\n",
        "# prepare the lists of features\n",
        "numeric_features = [\"Age\", \"Height\", \"Weight\", \"FCVC\", \"NCP\", \"CH2O\", \"FAF\", \"TUE\"]\n",
        "cat_features = ['Gender', 'family_history_with_overweight', 'FAVC', 'CAEC', 'SMOKE', 'SCC', 'CALC', 'MTRANS']\n",
        "cat_cols_ind = []\n",
        "for colName in cat_features:\n",
        "  cat_cols_ind.append(colName + \"_index\")\n",
        "\n",
        "# Convert all categorical variables to integers and create dummy variables\n",
        "indexer1 = [StringIndexer(inputCol=column, outputCol=column+\"_index\").fit(raw_data) for column in cat_cols] \n",
        "indexer2 = [StringIndexer(inputCol='NObeyesdad', outputCol='label')]\n",
        "\n",
        "stages = indexer1 + indexer2\n",
        "\n",
        "# Assemble a feature vector\n",
        "feature_cols = numeric_features + cat_cols_ind\n",
        "\n",
        "stages.append(VectorAssembler(inputCols=feature_cols, outputCol='vectorized_features'))\n",
        "\n",
        "# scale the vectorized features since the values are on different scales. \n",
        "# chosen to use MaxAbsScaler which rescales each feature to range [-1, 1] by dividing through the maximum absolute value in each feature. \n",
        "# It does not shift/center the data, and thus does not destroy any sparsity.\n",
        "\n",
        "scaler = MaxAbsScaler(inputCol=\"vectorized_features\", outputCol=\"features\")\n",
        "stages.append(scaler)\n",
        "pipeline = Pipeline(stages=stages)\n"
      ],
      "metadata": {
        "id": "PxAJi4FcSl39"
      },
      "execution_count": 30,
      "outputs": []
    },
    {
      "cell_type": "code",
      "source": [
        "# apply pipeline to transform the data\n",
        "data_transformed = pipeline.fit(raw_data).transform(raw_data)"
      ],
      "metadata": {
        "id": "xibjOGDjlRJR"
      },
      "execution_count": 31,
      "outputs": []
    },
    {
      "cell_type": "code",
      "source": [
        "# split the data into train, test\n",
        "seed = 10  # set seed for reproducibility\n",
        "trainDF, testDF = data_transformed.randomSplit([0.8,0.2],seed)"
      ],
      "metadata": {
        "id": "sJLmFuUVm3iY"
      },
      "execution_count": 32,
      "outputs": []
    },
    {
      "cell_type": "markdown",
      "source": [
        "### Logistic Regression"
      ],
      "metadata": {
        "id": "YgrUqxRERodc"
      }
    },
    {
      "cell_type": "code",
      "source": [
        "from pyspark.ml.classification import LogisticRegression\n",
        "from pyspark.ml.tuning import CrossValidator, ParamGridBuilder\n",
        "from pyspark.ml.evaluation import BinaryClassificationEvaluator, MulticlassClassificationEvaluator\n",
        "from pyspark.mllib.evaluation import MulticlassMetrics\n",
        "import numpy as np\n",
        "\n",
        "# run crossvalidation to try to find the best model\n",
        "lr = LogisticRegression(maxIter = 10,regParam=0.3, elasticNetParam=0.8) #multinomial logistic (softmax) regression with elastic net regularization\n",
        "\n",
        "# assigning hyperparameters\n",
        "paramGrid_lr = ParamGridBuilder() \\\n",
        "    .addGrid(lr.regParam, np.linspace(0.3, 0.01, 10)) \\\n",
        "    .addGrid(lr.elasticNetParam, np.linspace(0.3, 0.8, 6)) \\\n",
        "    .build()\n",
        "\n",
        "crossval_lr = CrossValidator(estimator=lr,\n",
        "                          estimatorParamMaps=paramGrid_lr,\n",
        "                          evaluator=BinaryClassificationEvaluator(),\n",
        "                          numFolds= 5)  \n",
        "cvModel_lr = crossval_lr.fit(trainDF)\n",
        "best_model_lr = cvModel_lr.bestModel.summary"
      ],
      "metadata": {
        "id": "DcftC6ENo6ZO"
      },
      "execution_count": 33,
      "outputs": []
    },
    {
      "cell_type": "code",
      "source": [
        "predictions_lr_on_train = cvModel_lr.transform(trainDF)\n",
        "predictions_lr_on_test = cvModel_lr.transform(testDF)\n"
      ],
      "metadata": {
        "id": "xp-qTmA2RU4H"
      },
      "execution_count": 34,
      "outputs": []
    },
    {
      "cell_type": "code",
      "source": [
        "#compare accuracy on both train and test datasets\n",
        "\n",
        "from pyspark.ml.evaluation import BinaryClassificationEvaluator, MulticlassClassificationEvaluator\n",
        " \n",
        "bcEvaluator_on_train = BinaryClassificationEvaluator(metricName=\"areaUnderROC\")\n",
        "print(f\"Area under ROC curve on train dataset: {bcEvaluator_on_train.evaluate(predictions_lr_on_train)}\")\n",
        " \n",
        "mcEvaluator_on_train = MulticlassClassificationEvaluator(metricName=\"accuracy\")\n",
        "print(f\"Accuracy on train dataset: {mcEvaluator_on_train.evaluate(predictions_lr_on_train)}\")\n",
        "\n",
        "bcEvaluator_on_test = BinaryClassificationEvaluator(metricName=\"areaUnderROC\")\n",
        "print(f\"Area under ROC curve on test dataset: {bcEvaluator_on_test.evaluate(predictions_lr_on_test)}\")\n",
        " \n",
        "mcEvaluator_on_test = MulticlassClassificationEvaluator(metricName=\"accuracy\")\n",
        "print(f\"Accuracy on test dataset: {mcEvaluator_on_test.evaluate(predictions_lr_on_test)}\")"
      ],
      "metadata": {
        "colab": {
          "base_uri": "https://localhost:8080/"
        },
        "id": "LpQAG6DrodEG",
        "outputId": "1d438495-b071-4c1c-af56-25e50b8054ac"
      },
      "execution_count": 35,
      "outputs": [
        {
          "output_type": "stream",
          "name": "stdout",
          "text": [
            "Area under ROC curve on train dataset: 0.5061264666509171\n",
            "Accuracy on train dataset: 0.43010113027959546\n",
            "Area under ROC curve on test dataset: 0.5269022604266157\n",
            "Accuracy on test dataset: 0.39069767441860465\n"
          ]
        }
      ]
    },
    {
      "cell_type": "code",
      "source": [
        "# confusion matrix\n",
        "import pyspark.sql.functions as F\n",
        "from pyspark.sql.types import FloatType\n",
        "#important: need to cast to float type, and order by prediction\n",
        "preds_and_labels = predictions_lr_on_test.select(['prediction', 'label']).withColumn('label', F.col('label').cast(FloatType())).orderBy('prediction')\n",
        "\n",
        "#select only prediction and label columns\n",
        "preds_and_labels = preds_and_labels.select(['prediction','label'])\n",
        "\n",
        "metrics_lr = MulticlassMetrics(preds_and_labels.rdd.map(tuple))\n",
        "\n",
        "print(metrics_lr.confusionMatrix().toArray())"
      ],
      "metadata": {
        "colab": {
          "base_uri": "https://localhost:8080/"
        },
        "id": "Mgg7bfMGoU0A",
        "outputId": "d8db070e-6804-4628-a521-6d2f0f9b1bf1"
      },
      "execution_count": 37,
      "outputs": [
        {
          "output_type": "stream",
          "name": "stdout",
          "text": [
            "[[ 2. 34. 45.  0.  0.  0.  0.]\n",
            " [ 0. 68.  1.  0.  0.  0.  0.]\n",
            " [ 0.  0. 48.  0.  0.  0.  0.]\n",
            " [ 4. 23. 20.  0.  0.  0. 12.]\n",
            " [ 1. 21. 39.  0.  0.  0.  1.]\n",
            " [ 9. 10.  8.  0.  0.  0. 33.]\n",
            " [ 1.  0.  0.  0.  0.  0. 50.]]\n"
          ]
        }
      ]
    },
    {
      "cell_type": "code",
      "source": [
        "print(metrics_lr.precision(1.0), metrics_lr.precision(2.0), metrics_lr.precision(3.0), metrics_lr.precision(4.0), metrics_lr.precision(5.0),metrics_lr.precision(6.0) )"
      ],
      "metadata": {
        "colab": {
          "base_uri": "https://localhost:8080/"
        },
        "id": "T7h9qHLBKuuP",
        "outputId": "4aa08dd6-fdfd-4176-98be-dd7d1dd61e58"
      },
      "execution_count": 38,
      "outputs": [
        {
          "output_type": "stream",
          "name": "stdout",
          "text": [
            "0.4358974358974359 0.2981366459627329 0.0 0.0 0.0 0.5208333333333334\n"
          ]
        }
      ]
    },
    {
      "cell_type": "code",
      "source": [
        "print(metrics_lr.recall(1.0), metrics_lr.recall(2.0), metrics_lr.recall(3.0), metrics_lr.recall(4.0), metrics_lr.recall(5.0),metrics_lr.recall(6.0) )"
      ],
      "metadata": {
        "colab": {
          "base_uri": "https://localhost:8080/"
        },
        "id": "qTzjjb5LK09E",
        "outputId": "6d911ca9-cf82-4a57-dbf8-fef7488b0e01"
      },
      "execution_count": 39,
      "outputs": [
        {
          "output_type": "stream",
          "name": "stdout",
          "text": [
            "0.9855072463768116 1.0 0.0 0.0 0.0 0.9803921568627451\n"
          ]
        }
      ]
    },
    {
      "cell_type": "code",
      "source": [
        "print(\"Weighted False Positive Rate = %g \" % metrics_lr.weightedFalsePositiveRate)\n",
        "print(\"Weighted True Positive Rate = %g \" % metrics_lr.weightedTruePositiveRate)\n",
        "print(\"Weighted F measure = %g \" % metrics_lr.weightedFMeasure())\n",
        "print(\"Weighted Precision = %g \" % metrics_lr.weightedPrecision)\n",
        "print(\"Weighted Recall = %g \" % metrics_lr.weightedRecall)\n"
      ],
      "metadata": {
        "colab": {
          "base_uri": "https://localhost:8080/"
        },
        "id": "AVaykSVPMXOA",
        "outputId": "67189ff4-653d-4fec-f086-3bfc7b17e26d"
      },
      "execution_count": 40,
      "outputs": [
        {
          "output_type": "stream",
          "name": "stdout",
          "text": [
            "Weighted False Positive Rate = 0.0946285 \n",
            "Weighted True Positive Rate = 0.390698 \n",
            "Weighted F measure = 0.236638 \n",
            "Weighted Precision = 0.187161 \n",
            "Weighted Recall = 0.390698 \n"
          ]
        }
      ]
    },
    {
      "cell_type": "markdown",
      "source": [
        "The Logistic Regression model did not perform well on this dataset. This may be due to the fact that it's not well balanced on some of the attributes. We could improve it by adding weights for those features."
      ],
      "metadata": {
        "id": "-eiRIauo8UtP"
      }
    },
    {
      "cell_type": "markdown",
      "source": [
        "##Decision Tree"
      ],
      "metadata": {
        "id": "2MEa6rOCT-jz"
      }
    },
    {
      "cell_type": "code",
      "source": [
        "from pyspark.ml.classification import DecisionTreeClassifier\n",
        "from pyspark.ml.evaluation import MulticlassClassificationEvaluator\n",
        "from pyspark.sql.types import FloatType\n"
      ],
      "metadata": {
        "id": "wf4l6Y6ARrWO"
      },
      "execution_count": 41,
      "outputs": []
    },
    {
      "cell_type": "code",
      "source": [
        "trainDF_dt = trainDF.withColumnRenamed('label','labelIndex')\n",
        "testDF_dt = testDF.withColumnRenamed('label','labelIndex')\n",
        "\n",
        "dt = DecisionTreeClassifier(labelCol=\"labelIndex\", featuresCol=\"features\")\n",
        "model_dt = dt.fit(trainDF_dt)\n"
      ],
      "metadata": {
        "id": "RdDsYRo6Sou_"
      },
      "execution_count": 42,
      "outputs": []
    },
    {
      "cell_type": "code",
      "source": [
        "# test model on train and test data\n",
        "predictions_dt_on_train = model_dt.transform(trainDF_dt)\n",
        "predictions_dt_on_test = model_dt.transform(testDF_dt)\n"
      ],
      "metadata": {
        "id": "owtVedtwT4S7"
      },
      "execution_count": 43,
      "outputs": []
    },
    {
      "cell_type": "code",
      "source": [
        "predictions_dt_on_train.select(\"prediction\", \"labelIndex\").show(5)\n"
      ],
      "metadata": {
        "colab": {
          "base_uri": "https://localhost:8080/"
        },
        "id": "eRVMBftc0_LN",
        "outputId": "506a25d1-920e-4273-9365-5adb0af963c7"
      },
      "execution_count": 44,
      "outputs": [
        {
          "output_type": "stream",
          "name": "stdout",
          "text": [
            "+----------+----------+\n",
            "|prediction|labelIndex|\n",
            "+----------+----------+\n",
            "|       0.0|       0.0|\n",
            "|       5.0|       5.0|\n",
            "|       3.0|       3.0|\n",
            "|       5.0|       5.0|\n",
            "|       3.0|       3.0|\n",
            "+----------+----------+\n",
            "only showing top 5 rows\n",
            "\n"
          ]
        }
      ]
    },
    {
      "cell_type": "code",
      "source": [
        "predictions_dt_on_test.select(\"prediction\", \"labelIndex\").show(5)"
      ],
      "metadata": {
        "colab": {
          "base_uri": "https://localhost:8080/"
        },
        "id": "mcEJn-q61Ici",
        "outputId": "3e743a0b-0f93-47f2-d9a9-17587cead86c"
      },
      "execution_count": 45,
      "outputs": [
        {
          "output_type": "stream",
          "name": "stdout",
          "text": [
            "+----------+----------+\n",
            "|prediction|labelIndex|\n",
            "+----------+----------+\n",
            "|       5.0|       5.0|\n",
            "|       5.0|       5.0|\n",
            "|       5.0|       5.0|\n",
            "|       3.0|       3.0|\n",
            "|       3.0|       3.0|\n",
            "+----------+----------+\n",
            "only showing top 5 rows\n",
            "\n"
          ]
        }
      ]
    },
    {
      "cell_type": "code",
      "source": [
        "dt_evaluator = MulticlassClassificationEvaluator(labelCol=\"labelIndex\", predictionCol=\"prediction\",metricName=\"accuracy\")\n",
        "dt_accuracy_on_train = dt_evaluator.evaluate(predictions_dt_on_train)\n",
        "dt_accuracy_on_test = dt_evaluator.evaluate(predictions_dt_on_test)\n",
        "print(\"Accuracy on Train = %g \" % dt_accuracy_on_train)\n",
        "print(\"Accuracy on Test = %g \" % dt_accuracy_on_test)"
      ],
      "metadata": {
        "colab": {
          "base_uri": "https://localhost:8080/"
        },
        "id": "3IjYnMFD1NdS",
        "outputId": "1bd1b521-1ee8-451a-b17d-6f042186be6a"
      },
      "execution_count": 46,
      "outputs": [
        {
          "output_type": "stream",
          "name": "stdout",
          "text": [
            "Accuracy on Train = 0.837002 \n",
            "Accuracy on Test = 0.827907 \n"
          ]
        }
      ]
    },
    {
      "cell_type": "code",
      "source": [
        "# confusion matrix\n",
        "\n",
        "preds_and_labels_dt = predictions_dt_on_test.select(['prediction', 'labelIndex']).withColumn('labelIndex', F.col('labelIndex').cast(FloatType())).orderBy('prediction')\n",
        "preds_and_labels_dt = preds_and_labels_dt.select(['prediction','labelIndex'])\n",
        "metrics_dt = MulticlassMetrics(preds_and_labels_dt.rdd.map(tuple))\n",
        "\n",
        "print(metrics_dt.confusionMatrix().toArray())"
      ],
      "metadata": {
        "colab": {
          "base_uri": "https://localhost:8080/"
        },
        "id": "WLjx9pft3aBf",
        "outputId": "2e8a35b6-0bf9-4c8f-9ed7-b34a048caab3"
      },
      "execution_count": 47,
      "outputs": [
        {
          "output_type": "stream",
          "name": "stdout",
          "text": [
            "[[77.  0.  1.  2.  1.  0.  0.]\n",
            " [ 0. 68.  1.  0.  0.  0.  0.]\n",
            " [ 2.  0. 46.  0.  0.  0.  0.]\n",
            " [ 1.  0.  0. 36. 20.  2.  0.]\n",
            " [14.  0.  0.  2. 46.  0.  0.]\n",
            " [ 0.  0.  0. 14.  4. 38.  4.]\n",
            " [ 0.  0.  0.  0.  0.  6. 45.]]\n"
          ]
        }
      ]
    },
    {
      "cell_type": "code",
      "source": [
        "print(metrics_dt.precision(1.0), metrics_dt.precision(2.0), metrics_dt.precision(3.0), metrics_dt.precision(4.0), metrics_dt.precision(5.0),metrics_dt.precision(6.0) )"
      ],
      "metadata": {
        "colab": {
          "base_uri": "https://localhost:8080/"
        },
        "id": "sE9Dp7qvJHSe",
        "outputId": "6abe8786-db3a-445e-aa14-e584471fc0a4"
      },
      "execution_count": 48,
      "outputs": [
        {
          "output_type": "stream",
          "name": "stdout",
          "text": [
            "1.0 0.9583333333333334 0.6666666666666666 0.647887323943662 0.8260869565217391 0.9183673469387755\n"
          ]
        }
      ]
    },
    {
      "cell_type": "code",
      "source": [
        "print(metrics_dt.recall(1.0), metrics_dt.recall(2.0), metrics_dt.recall(3.0), metrics_dt.recall(4.0), metrics_dt.recall(5.0),metrics_dt.recall(6.0))"
      ],
      "metadata": {
        "colab": {
          "base_uri": "https://localhost:8080/"
        },
        "id": "jyV-lFZnJ977",
        "outputId": "c63e1c34-d572-44c1-bdd4-456a80d4ed12"
      },
      "execution_count": 49,
      "outputs": [
        {
          "output_type": "stream",
          "name": "stdout",
          "text": [
            "0.9855072463768116 0.9583333333333334 0.6101694915254238 0.7419354838709677 0.6333333333333333 0.8823529411764706\n"
          ]
        }
      ]
    },
    {
      "cell_type": "code",
      "source": [
        "print(\"Weighted False Positive Rate = %g \" % metrics_dt.weightedFalsePositiveRate)\n",
        "print(\"Weighted True Positive Rate = %g \" % metrics_dt.weightedTruePositiveRate)\n",
        "print(\"Weighted F measure = %g \" % metrics_dt.weightedFMeasure())\n",
        "print(\"Weighted Precision = %g \" % metrics_dt.weightedPrecision)\n",
        "print(\"Weighted Recall = %g \" % metrics_dt.weightedRecall)"
      ],
      "metadata": {
        "colab": {
          "base_uri": "https://localhost:8080/"
        },
        "id": "7yrRkcAfLIpl",
        "outputId": "0b438e7d-1de3-4c61-b67b-eb5600792e67"
      },
      "execution_count": 50,
      "outputs": [
        {
          "output_type": "stream",
          "name": "stdout",
          "text": [
            "Weighted False Positive Rate = 0.0304812 \n",
            "Weighted True Positive Rate = 0.827907 \n",
            "Weighted F measure = 0.825989 \n",
            "Weighted Precision = 0.830826 \n",
            "Weighted Recall = 0.827907 \n"
          ]
        }
      ]
    },
    {
      "cell_type": "markdown",
      "source": [
        "We see that the Decision Tree classifier did well on our data with majority of the target variables classes being predicted accurately (diagonal of correlation matrix) and with relatively good precision and recall for most of them."
      ],
      "metadata": {
        "id": "Kl9i4NIt756g"
      }
    },
    {
      "cell_type": "markdown",
      "source": [
        "###Random Forests"
      ],
      "metadata": {
        "id": "s8ZWymYkU-Dl"
      }
    },
    {
      "cell_type": "code",
      "source": [
        "from pyspark.ml.classification import RandomForestClassifier\n",
        "\n",
        "rf = RandomForestClassifier(featuresCol = 'features', labelCol = 'label', numTrees=100)\n",
        "\n",
        "model_rf = rf.fit(trainDF)\n"
      ],
      "metadata": {
        "id": "3ejoerCIU_pL"
      },
      "execution_count": 51,
      "outputs": []
    },
    {
      "cell_type": "code",
      "source": [
        "# test model on train and test data\n",
        "predictions_rf_on_train = model_rf.transform(trainDF)\n",
        "predictions_rf_on_test = model_rf.transform(testDF)\n"
      ],
      "metadata": {
        "id": "Mw2-dwhfPgHW"
      },
      "execution_count": 52,
      "outputs": []
    },
    {
      "cell_type": "code",
      "source": [
        "predictions_rf_on_train.select(\"prediction\", \"label\").show(5)\n"
      ],
      "metadata": {
        "colab": {
          "base_uri": "https://localhost:8080/"
        },
        "id": "rsCc_5GsPgHc",
        "outputId": "b7be33b5-13a0-4b8b-cd12-faffd452f540"
      },
      "execution_count": 53,
      "outputs": [
        {
          "output_type": "stream",
          "name": "stdout",
          "text": [
            "+----------+-----+\n",
            "|prediction|label|\n",
            "+----------+-----+\n",
            "|       0.0|  0.0|\n",
            "|       5.0|  5.0|\n",
            "|       3.0|  3.0|\n",
            "|       5.0|  5.0|\n",
            "|       3.0|  3.0|\n",
            "+----------+-----+\n",
            "only showing top 5 rows\n",
            "\n"
          ]
        }
      ]
    },
    {
      "cell_type": "code",
      "source": [
        "predictions_rf_on_test.select(\"prediction\", \"label\").show(5)"
      ],
      "metadata": {
        "colab": {
          "base_uri": "https://localhost:8080/"
        },
        "id": "EA7KXosNPgHc",
        "outputId": "85979eef-f575-408f-8ee9-05544b26a8cd"
      },
      "execution_count": 54,
      "outputs": [
        {
          "output_type": "stream",
          "name": "stdout",
          "text": [
            "+----------+-----+\n",
            "|prediction|label|\n",
            "+----------+-----+\n",
            "|       6.0|  5.0|\n",
            "|       5.0|  5.0|\n",
            "|       5.0|  5.0|\n",
            "|       3.0|  3.0|\n",
            "|       3.0|  3.0|\n",
            "+----------+-----+\n",
            "only showing top 5 rows\n",
            "\n"
          ]
        }
      ]
    },
    {
      "cell_type": "code",
      "source": [
        "rf_evaluator = MulticlassClassificationEvaluator(labelCol=\"label\", predictionCol=\"prediction\",metricName=\"accuracy\")\n",
        "rf_accuracy_on_train = rf_evaluator.evaluate(predictions_rf_on_train)\n",
        "rf_accuracy_on_test = rf_evaluator.evaluate(predictions_rf_on_test)\n",
        "print(\"Accuracy on Train = %g \" % rf_accuracy_on_train)\n",
        "print(\"Accuracy on Test = %g \" % rf_accuracy_on_test)"
      ],
      "metadata": {
        "colab": {
          "base_uri": "https://localhost:8080/"
        },
        "outputId": "239ba729-d8fd-42e7-b62c-9d2cc7eb50e7",
        "id": "UJK5-od7PgHc"
      },
      "execution_count": 55,
      "outputs": [
        {
          "output_type": "stream",
          "name": "stdout",
          "text": [
            "Accuracy on Train = 0.903034 \n",
            "Accuracy on Test = 0.865116 \n"
          ]
        }
      ]
    },
    {
      "cell_type": "code",
      "source": [
        "# confusion matrix\n",
        "\n",
        "preds_and_labels_rf = predictions_rf_on_test.select(['prediction', 'label']).withColumn('label', F.col('label').cast(FloatType())).orderBy('prediction')\n",
        "preds_and_labels_rf = preds_and_labels_rf.select(['prediction','label'])\n",
        "metrics_rf = MulticlassMetrics(preds_and_labels_rf.rdd.map(tuple))\n",
        "\n",
        "print(metrics_rf.confusionMatrix().toArray())"
      ],
      "metadata": {
        "colab": {
          "base_uri": "https://localhost:8080/"
        },
        "outputId": "8bceeef8-2bd9-415d-9761-879dbd47eecc",
        "id": "WFuG0QhWPgHd"
      },
      "execution_count": 56,
      "outputs": [
        {
          "output_type": "stream",
          "name": "stdout",
          "text": [
            "[[71.  0.  7.  0.  2.  1.  0.]\n",
            " [ 0. 68.  1.  0.  0.  0.  0.]\n",
            " [ 1.  0. 47.  0.  0.  0.  0.]\n",
            " [ 1.  0.  0. 38.  7. 13.  0.]\n",
            " [10.  0.  0.  4. 43.  5.  0.]\n",
            " [ 0.  0.  0.  1.  1. 55.  3.]\n",
            " [ 0.  0.  0.  1.  0.  0. 50.]]\n"
          ]
        }
      ]
    },
    {
      "cell_type": "code",
      "source": [
        "print(metrics_rf.precision(1.0), metrics_rf.precision(2.0), metrics_rf.precision(3.0), metrics_rf.precision(4.0), metrics_rf.precision(5.0),metrics_rf.precision(6.0) )"
      ],
      "metadata": {
        "colab": {
          "base_uri": "https://localhost:8080/"
        },
        "outputId": "de79767f-7458-4c05-e274-a3f8f5679a19",
        "id": "UoUvqAAjPgHd"
      },
      "execution_count": 57,
      "outputs": [
        {
          "output_type": "stream",
          "name": "stdout",
          "text": [
            "1.0 0.8545454545454545 0.8636363636363636 0.8113207547169812 0.7432432432432432 0.9433962264150944\n"
          ]
        }
      ]
    },
    {
      "cell_type": "code",
      "source": [
        "print(metrics_rf.recall(1.0), metrics_rf.recall(2.0), metrics_rf.recall(3.0), metrics_rf.recall(4.0), metrics_rf.recall(5.0),metrics_rf.recall(6.0))"
      ],
      "metadata": {
        "colab": {
          "base_uri": "https://localhost:8080/"
        },
        "outputId": "b15b4ad6-4c75-4859-cf34-cf256dad56cb",
        "id": "bEoIR3Y8PgHd"
      },
      "execution_count": 58,
      "outputs": [
        {
          "output_type": "stream",
          "name": "stdout",
          "text": [
            "0.9855072463768116 0.9791666666666666 0.6440677966101694 0.6935483870967742 0.9166666666666666 0.9803921568627451\n"
          ]
        }
      ]
    },
    {
      "cell_type": "code",
      "source": [
        "print(\"Weighted False Positive Rate = %g \" % metrics_rf.weightedFalsePositiveRate)\n",
        "print(\"Weighted True Positive Rate = %g \" % metrics_rf.weightedTruePositiveRate)\n",
        "print(\"Weighted F measure = %g \" % metrics_rf.weightedFMeasure())\n",
        "print(\"Weighted Precision = %g \" % metrics_rf.weightedPrecision)\n",
        "print(\"Weighted Recall = %g \" % metrics_rf.weightedRecall)"
      ],
      "metadata": {
        "colab": {
          "base_uri": "https://localhost:8080/"
        },
        "outputId": "24e4b4da-b2f5-47d3-a85e-32625f521328",
        "id": "zo3ZrNinPgHd"
      },
      "execution_count": 59,
      "outputs": [
        {
          "output_type": "stream",
          "name": "stdout",
          "text": [
            "Weighted False Positive Rate = 0.023056 \n",
            "Weighted True Positive Rate = 0.865116 \n",
            "Weighted F measure = 0.861925 \n",
            "Weighted Precision = 0.868073 \n",
            "Weighted Recall = 0.865116 \n"
          ]
        }
      ]
    },
    {
      "cell_type": "markdown",
      "source": [
        "The Random Tree Classified with 100 trees performed better than the previous two methods. We try it with more trees to see if there is improvement."
      ],
      "metadata": {
        "id": "HobHHC8cQ5i2"
      }
    },
    {
      "cell_type": "code",
      "source": [
        "rf_300 = RandomForestClassifier(featuresCol = 'features', labelCol = 'label', numTrees=300)\n",
        "\n",
        "model_rf_300 = rf_300.fit(trainDF)\n",
        "\n",
        "predictions_rf_300_on_train = model_rf_300.transform(trainDF)\n",
        "predictions_rf_300_on_test = model_rf_300.transform(testDF)"
      ],
      "metadata": {
        "id": "MV-uUO7TV_Mo"
      },
      "execution_count": 60,
      "outputs": []
    },
    {
      "cell_type": "code",
      "source": [
        "rf_300_accuracy_on_train = rf_evaluator.evaluate(predictions_rf_300_on_train)\n",
        "rf_300_accuracy_on_test = rf_evaluator.evaluate(predictions_rf_300_on_test)\n",
        "print(\"Accuracy on Train = %g \" % rf_300_accuracy_on_train)\n",
        "print(\"Accuracy on Test = %g \" % rf_300_accuracy_on_test)"
      ],
      "metadata": {
        "colab": {
          "base_uri": "https://localhost:8080/"
        },
        "outputId": "3b9bd2c0-2e54-440b-e958-5959613be9a3",
        "id": "sHFf6k_iV_Mp"
      },
      "execution_count": 61,
      "outputs": [
        {
          "output_type": "stream",
          "name": "stdout",
          "text": [
            "Accuracy on Train = 0.908388 \n",
            "Accuracy on Test = 0.869767 \n"
          ]
        }
      ]
    },
    {
      "cell_type": "code",
      "source": [
        "# confusion matrix\n",
        "\n",
        "preds_and_labels_rf_300 = predictions_rf_300_on_test.select(['prediction', 'label']).withColumn('label', F.col('label').cast(FloatType())).orderBy('prediction')\n",
        "preds_and_labels_rf_300 = preds_and_labels_rf_300.select(['prediction','label'])\n",
        "metrics_rf_300 = MulticlassMetrics(preds_and_labels_rf_300.rdd.map(tuple))\n",
        "\n",
        "print(metrics_rf_300.confusionMatrix().toArray())"
      ],
      "metadata": {
        "colab": {
          "base_uri": "https://localhost:8080/"
        },
        "outputId": "35a32b5c-95bd-4ff2-e075-4714f5dc529b",
        "id": "74Lk-FrqV_Mp"
      },
      "execution_count": 62,
      "outputs": [
        {
          "output_type": "stream",
          "name": "stdout",
          "text": [
            "[[72.  0.  6.  1.  1.  1.  0.]\n",
            " [ 0. 68.  1.  0.  0.  0.  0.]\n",
            " [ 1.  0. 47.  0.  0.  0.  0.]\n",
            " [ 1.  0.  0. 38.  8. 12.  0.]\n",
            " [10.  0.  0.  3. 46.  3.  0.]\n",
            " [ 0.  0.  0.  3.  2. 52.  3.]\n",
            " [ 0.  0.  0.  0.  0.  0. 51.]]\n"
          ]
        }
      ]
    },
    {
      "cell_type": "code",
      "source": [
        "print(metrics_rf_300.precision(1.0), metrics_rf_300.precision(2.0), metrics_rf_300.precision(3.0), metrics_rf_300.precision(4.0), metrics_rf_300.precision(5.0),metrics_rf_300.precision(6.0) )"
      ],
      "metadata": {
        "colab": {
          "base_uri": "https://localhost:8080/"
        },
        "outputId": "45de3e6d-6ac7-4bac-e866-5beff561a4cd",
        "id": "8bCHSYEJV_Mp"
      },
      "execution_count": 63,
      "outputs": [
        {
          "output_type": "stream",
          "name": "stdout",
          "text": [
            "1.0 0.8703703703703703 0.8444444444444444 0.8070175438596491 0.7647058823529411 0.9444444444444444\n"
          ]
        }
      ]
    },
    {
      "cell_type": "code",
      "source": [
        "print(metrics_rf_300.recall(1.0), metrics_rf_300.recall(2.0), metrics_rf_300.recall(3.0), metrics_rf_300.recall(4.0), metrics_rf_300.recall(5.0),metrics_rf_300.recall(6.0))"
      ],
      "metadata": {
        "colab": {
          "base_uri": "https://localhost:8080/"
        },
        "outputId": "e30735d3-4774-4ba7-9941-29be3b042a62",
        "id": "GLlaxzk2V_Mp"
      },
      "execution_count": 64,
      "outputs": [
        {
          "output_type": "stream",
          "name": "stdout",
          "text": [
            "0.9855072463768116 0.9791666666666666 0.6440677966101694 0.7419354838709677 0.8666666666666667 1.0\n"
          ]
        }
      ]
    },
    {
      "cell_type": "code",
      "source": [
        "print(\"Weighted False Positive Rate = %g \" % metrics_rf_300.weightedFalsePositiveRate)\n",
        "print(\"Weighted True Positive Rate = %g \" % metrics_rf_300.weightedTruePositiveRate)\n",
        "print(\"Weighted F measure = %g \" % metrics_rf_300.weightedFMeasure())\n",
        "print(\"Weighted Precision = %g \" % metrics_rf_300.weightedPrecision)\n",
        "print(\"Weighted Recall = %g \" % metrics_rf_300.weightedRecall)"
      ],
      "metadata": {
        "colab": {
          "base_uri": "https://localhost:8080/"
        },
        "outputId": "3fefca40-5ae5-4c91-e604-04ebf85004b6",
        "id": "Z4jmn65fV_Mp"
      },
      "execution_count": 65,
      "outputs": [
        {
          "output_type": "stream",
          "name": "stdout",
          "text": [
            "Weighted False Positive Rate = 0.022394 \n",
            "Weighted True Positive Rate = 0.869767 \n",
            "Weighted F measure = 0.866892 \n",
            "Weighted Precision = 0.870029 \n",
            "Weighted Recall = 0.869767 \n"
          ]
        }
      ]
    },
    {
      "cell_type": "code",
      "source": [
        "rf_3000 = RandomForestClassifier(featuresCol = 'features', labelCol = 'label', numTrees=3000)\n",
        "\n",
        "model_rf_3000 = rf_3000.fit(trainDF)\n",
        "\n",
        "predictions_rf_3000_on_train = model_rf_3000.transform(trainDF)\n",
        "predictions_rf_3000_on_test = model_rf_3000.transform(testDF)"
      ],
      "metadata": {
        "id": "RU2WiEKUYS6c"
      },
      "execution_count": 66,
      "outputs": []
    },
    {
      "cell_type": "code",
      "source": [
        "rf_3000_accuracy_on_train = rf_evaluator.evaluate(predictions_rf_3000_on_train)\n",
        "rf_3000_accuracy_on_test = rf_evaluator.evaluate(predictions_rf_3000_on_test)\n",
        "print(\"Accuracy on Train = %g \" % rf_3000_accuracy_on_train)\n",
        "print(\"Accuracy on Test = %g \" % rf_3000_accuracy_on_test)"
      ],
      "metadata": {
        "colab": {
          "base_uri": "https://localhost:8080/"
        },
        "outputId": "0fc66c7b-ad29-48d0-8ff4-48d79491c126",
        "id": "TXKB_su2YS6d"
      },
      "execution_count": 67,
      "outputs": [
        {
          "output_type": "stream",
          "name": "stdout",
          "text": [
            "Accuracy on Train = 0.904224 \n",
            "Accuracy on Test = 0.87907 \n"
          ]
        }
      ]
    },
    {
      "cell_type": "code",
      "source": [
        "# confusion matrix\n",
        "\n",
        "preds_and_labels_rf_3000 = predictions_rf_3000_on_test.select(['prediction', 'label']).withColumn('label', F.col('label').cast(FloatType())).orderBy('prediction')\n",
        "preds_and_labels_rf_3000 = preds_and_labels_rf_3000.select(['prediction','label'])\n",
        "metrics_rf_3000 = MulticlassMetrics(preds_and_labels_rf_3000.rdd.map(tuple))\n",
        "\n",
        "print(metrics_rf_3000.confusionMatrix().toArray())"
      ],
      "metadata": {
        "colab": {
          "base_uri": "https://localhost:8080/"
        },
        "outputId": "2187c884-2d35-4e1a-8a9c-3b57ef47e6d3",
        "id": "4BZY2VTVYS6d"
      },
      "execution_count": 68,
      "outputs": [
        {
          "output_type": "stream",
          "name": "stdout",
          "text": [
            "[[73.  0.  5.  0.  2.  1.  0.]\n",
            " [ 0. 68.  1.  0.  0.  0.  0.]\n",
            " [ 1.  0. 47.  0.  0.  0.  0.]\n",
            " [ 1.  0.  0. 38.  8. 12.  0.]\n",
            " [ 9.  0.  0.  2. 48.  3.  0.]\n",
            " [ 0.  0.  0.  3.  2. 53.  2.]\n",
            " [ 0.  0.  0.  0.  0.  0. 51.]]\n"
          ]
        }
      ]
    },
    {
      "cell_type": "code",
      "source": [
        "print(metrics_rf_3000.precision(1.0), metrics_rf_3000.precision(2.0), metrics_rf_3000.precision(3.0), metrics_rf_3000.precision(4.0), metrics_rf_3000.precision(5.0),metrics_rf_3000.precision(6.0) )"
      ],
      "metadata": {
        "colab": {
          "base_uri": "https://localhost:8080/"
        },
        "outputId": "800b4b52-93f9-4729-bb2a-87fd639de908",
        "id": "Hq3o9lyDYS6d"
      },
      "execution_count": 69,
      "outputs": [
        {
          "output_type": "stream",
          "name": "stdout",
          "text": [
            "1.0 0.8867924528301887 0.8837209302325582 0.8 0.7681159420289855 0.9622641509433962\n"
          ]
        }
      ]
    },
    {
      "cell_type": "code",
      "source": [
        "print(metrics_rf_3000.recall(1.0), metrics_rf_3000.recall(2.0), metrics_rf_3000.recall(3.0), metrics_rf_3000.recall(4.0), metrics_rf_3000.recall(5.0),metrics_rf_3000.recall(6.0))"
      ],
      "metadata": {
        "colab": {
          "base_uri": "https://localhost:8080/"
        },
        "outputId": "05a1747c-4fbb-4758-ab24-970f5b6bca88",
        "id": "extizSkdYS6d"
      },
      "execution_count": 70,
      "outputs": [
        {
          "output_type": "stream",
          "name": "stdout",
          "text": [
            "0.9855072463768116 0.9791666666666666 0.6440677966101694 0.7741935483870968 0.8833333333333333 1.0\n"
          ]
        }
      ]
    },
    {
      "cell_type": "code",
      "source": [
        "print(\"Weighted False Positive Rate = %g \" % metrics_rf_3000.weightedFalsePositiveRate)\n",
        "print(\"Weighted True Positive Rate = %g \" % metrics_rf_3000.weightedTruePositiveRate)\n",
        "print(\"Weighted F measure = %g \" % metrics_rf_3000.weightedFMeasure())\n",
        "print(\"Weighted Precision = %g \" % metrics_rf_3000.weightedPrecision)\n",
        "print(\"Weighted Recall = %g \" % metrics_rf_3000.weightedRecall)"
      ],
      "metadata": {
        "colab": {
          "base_uri": "https://localhost:8080/"
        },
        "outputId": "5b83eda3-c742-4ffa-f466-8f8e8290f58b",
        "id": "_DZj5jq7YS6d"
      },
      "execution_count": 71,
      "outputs": [
        {
          "output_type": "stream",
          "name": "stdout",
          "text": [
            "Weighted False Positive Rate = 0.0209013 \n",
            "Weighted True Positive Rate = 0.87907 \n",
            "Weighted F measure = 0.876539 \n",
            "Weighted Precision = 0.881072 \n",
            "Weighted Recall = 0.87907 \n"
          ]
        }
      ]
    },
    {
      "cell_type": "markdown",
      "source": [
        "Increasing the number of trees does not appear to improve the model much"
      ],
      "metadata": {
        "id": "1wXE-5PVaLVD"
      }
    },
    {
      "cell_type": "markdown",
      "source": [
        "###Naive Bayes"
      ],
      "metadata": {
        "id": "M2mAy0mSVLe4"
      }
    },
    {
      "cell_type": "code",
      "source": [
        "from pyspark.ml.classification import NaiveBayes \n",
        "\n",
        "nb = NaiveBayes(modelType=\"multinomial\", featuresCol='features', labelCol='label', smoothing=2.0)\n",
        "model_nb = nb.fit(trainDF)\n"
      ],
      "metadata": {
        "id": "u7xTeoz7VMse"
      },
      "execution_count": 72,
      "outputs": []
    },
    {
      "cell_type": "code",
      "source": [
        "# test model on train and test data\n",
        "predictions_nb_on_train = model_nb.transform(trainDF)\n",
        "predictions_nb_on_test = model_nb.transform(testDF)\n"
      ],
      "metadata": {
        "id": "V2GEUgUuSmbD"
      },
      "execution_count": 73,
      "outputs": []
    },
    {
      "cell_type": "code",
      "source": [
        "predictions_nb_on_train.select(\"prediction\", \"label\").show(5)\n"
      ],
      "metadata": {
        "colab": {
          "base_uri": "https://localhost:8080/"
        },
        "outputId": "aaabcaa9-72f9-4349-ea29-4da0286d4769",
        "id": "fF9PCFsdSmbI"
      },
      "execution_count": 74,
      "outputs": [
        {
          "output_type": "stream",
          "name": "stdout",
          "text": [
            "+----------+-----+\n",
            "|prediction|label|\n",
            "+----------+-----+\n",
            "|       0.0|  0.0|\n",
            "|       6.0|  5.0|\n",
            "|       0.0|  3.0|\n",
            "|       5.0|  5.0|\n",
            "|       3.0|  3.0|\n",
            "+----------+-----+\n",
            "only showing top 5 rows\n",
            "\n"
          ]
        }
      ]
    },
    {
      "cell_type": "code",
      "source": [
        "predictions_nb_on_test.select(\"prediction\", \"label\").show(5)"
      ],
      "metadata": {
        "colab": {
          "base_uri": "https://localhost:8080/"
        },
        "outputId": "bf0eb1b5-ae0e-431e-a117-56352bb01b08",
        "id": "bcaNfMifSmbI"
      },
      "execution_count": 75,
      "outputs": [
        {
          "output_type": "stream",
          "name": "stdout",
          "text": [
            "+----------+-----+\n",
            "|prediction|label|\n",
            "+----------+-----+\n",
            "|       6.0|  5.0|\n",
            "|       6.0|  5.0|\n",
            "|       5.0|  5.0|\n",
            "|       3.0|  3.0|\n",
            "|       3.0|  3.0|\n",
            "+----------+-----+\n",
            "only showing top 5 rows\n",
            "\n"
          ]
        }
      ]
    },
    {
      "cell_type": "code",
      "source": [
        "evaluator = MulticlassClassificationEvaluator(labelCol=\"label\", predictionCol=\"prediction\",metricName=\"accuracy\")\n",
        "nb_accuracy_on_train = evaluator.evaluate(predictions_nb_on_train)\n",
        "nb_accuracy_on_test = evaluator.evaluate(predictions_nb_on_test)\n",
        "print(\"Accuracy on Train = %g \" % nb_accuracy_on_train)\n",
        "print(\"Accuracy on Test = %g \" % nb_accuracy_on_test)"
      ],
      "metadata": {
        "colab": {
          "base_uri": "https://localhost:8080/"
        },
        "outputId": "7c9d2217-4551-4c8c-a589-56aa7dcccbe1",
        "id": "PAi-uZRzSmbI"
      },
      "execution_count": 76,
      "outputs": [
        {
          "output_type": "stream",
          "name": "stdout",
          "text": [
            "Accuracy on Train = 0.475312 \n",
            "Accuracy on Test = 0.448837 \n"
          ]
        }
      ]
    },
    {
      "cell_type": "code",
      "source": [
        "# confusion matrix\n",
        "\n",
        "preds_and_labels_nb = predictions_nb_on_test.select(['prediction', 'label']).withColumn('label', F.col('label').cast(FloatType())).orderBy('prediction')\n",
        "preds_and_labels_nb = preds_and_labels_nb.select(['prediction','label'])\n",
        "metrics_nb = MulticlassMetrics(preds_and_labels_nb.rdd.map(tuple))\n",
        "\n",
        "print(metrics_nb.confusionMatrix().toArray())"
      ],
      "metadata": {
        "colab": {
          "base_uri": "https://localhost:8080/"
        },
        "outputId": "dd5ff497-3324-4651-b60e-8a78568c261d",
        "id": "Pn6sRYAISmbI"
      },
      "execution_count": 77,
      "outputs": [
        {
          "output_type": "stream",
          "name": "stdout",
          "text": [
            "[[22. 16. 35.  3.  2.  2.  1.]\n",
            " [ 1. 66.  1.  0.  1.  0.  0.]\n",
            " [ 0.  0. 48.  0.  0.  0.  0.]\n",
            " [10.  7. 14.  7.  3.  9.  9.]\n",
            " [13.  1. 29.  0. 15.  2.  2.]\n",
            " [ 5.  2.  5.  7.  5. 17. 19.]\n",
            " [13.  0. 13.  0.  0.  7. 18.]]\n"
          ]
        }
      ]
    },
    {
      "cell_type": "code",
      "source": [
        "print(metrics_nb.precision(1.0), metrics_nb.precision(2.0), metrics_nb.precision(3.0), metrics_nb.precision(4.0), metrics_nb.precision(5.0),metrics_nb.precision(6.0) )"
      ],
      "metadata": {
        "colab": {
          "base_uri": "https://localhost:8080/"
        },
        "outputId": "f4e00672-dab7-4c51-bdfd-fef3762d088e",
        "id": "w6JcyoBRSmbJ"
      },
      "execution_count": 78,
      "outputs": [
        {
          "output_type": "stream",
          "name": "stdout",
          "text": [
            "0.717391304347826 0.3310344827586207 0.4117647058823529 0.5769230769230769 0.4594594594594595 0.3673469387755102\n"
          ]
        }
      ]
    },
    {
      "cell_type": "code",
      "source": [
        "print(metrics_nb.recall(1.0), metrics_nb.recall(2.0), metrics_nb.recall(3.0), metrics_nb.recall(4.0), metrics_nb.recall(5.0),metrics_nb.recall(6.0))"
      ],
      "metadata": {
        "colab": {
          "base_uri": "https://localhost:8080/"
        },
        "outputId": "d3268b9e-aa6c-4980-bea4-353d5d146573",
        "id": "RWgVExpySmbJ"
      },
      "execution_count": 79,
      "outputs": [
        {
          "output_type": "stream",
          "name": "stdout",
          "text": [
            "0.9565217391304348 1.0 0.11864406779661017 0.24193548387096775 0.2833333333333333 0.35294117647058826\n"
          ]
        }
      ]
    },
    {
      "cell_type": "code",
      "source": [
        "print(\"Weighted False Positive Rate = %g \" % metrics_nb.weightedFalsePositiveRate)\n",
        "print(\"Weighted True Positive Rate = %g \" % metrics_nb.weightedTruePositiveRate)\n",
        "print(\"Weighted F measure = %g \" % metrics_nb.weightedFMeasure())\n",
        "print(\"Weighted Precision = %g \" % metrics_nb.weightedPrecision)\n",
        "print(\"Weighted Recall = %g \" % metrics_nb.weightedRecall)"
      ],
      "metadata": {
        "colab": {
          "base_uri": "https://localhost:8080/"
        },
        "outputId": "d1021c7d-d8c4-4ca8-e2f8-35553c0005a2",
        "id": "MtzuWnPRSmbJ"
      },
      "execution_count": 80,
      "outputs": [
        {
          "output_type": "stream",
          "name": "stdout",
          "text": [
            "Weighted False Positive Rate = 0.0878236 \n",
            "Weighted True Positive Rate = 0.448837 \n",
            "Weighted F measure = 0.410284 \n",
            "Weighted Precision = 0.464184 \n",
            "Weighted Recall = 0.448837 \n"
          ]
        }
      ]
    },
    {
      "cell_type": "markdown",
      "source": [
        "Naive Bayes performed very poorly on this dataset, which might mean the variables are not truly independent of each other.  This is a condition for Naive Bayes, that variables are independent."
      ],
      "metadata": {
        "id": "_S8SOrBmVRmA"
      }
    }
  ]
}