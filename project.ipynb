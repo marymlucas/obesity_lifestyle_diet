{
  "nbformat": 4,
  "nbformat_minor": 0,
  "metadata": {
    "colab": {
      "name": "project.ipynb",
      "provenance": [],
      "authorship_tag": "ABX9TyPu92vghH0UUbLzFOmJ3PHY",
      "include_colab_link": true
    },
    "kernelspec": {
      "name": "python3",
      "display_name": "Python 3"
    },
    "language_info": {
      "name": "python"
    }
  },
  "cells": [
    {
      "cell_type": "markdown",
      "metadata": {
        "id": "view-in-github",
        "colab_type": "text"
      },
      "source": [
        "<a href=\"https://colab.research.google.com/github/marymlucas/obesity_lifestyle_diet/blob/main/project.ipynb\" target=\"_parent\"><img src=\"https://colab.research.google.com/assets/colab-badge.svg\" alt=\"Open In Colab\"/></a>"
      ]
    },
    {
      "cell_type": "markdown",
      "source": [
        "##Project - Predict obesity of individuals based on diet and lifestyle habits"
      ],
      "metadata": {
        "id": "YZjd7iWyCVkm"
      }
    },
    {
      "cell_type": "code",
      "execution_count": 6,
      "metadata": {
        "id": "PNtHXtvCYpLy"
      },
      "outputs": [],
      "source": [
        "!apt-get install openjdk-8-jdk-headless -qq > /dev/null\n"
      ]
    },
    {
      "cell_type": "code",
      "source": [
        "!wget https://dlcdn.apache.org/spark/spark-3.0.3/spark-3.0.3-bin-hadoop2.7.tgz"
      ],
      "metadata": {
        "colab": {
          "base_uri": "https://localhost:8080/"
        },
        "id": "8FLFtODfYzR1",
        "outputId": "63a3f374-e22a-48d6-934a-a9c85773c4de"
      },
      "execution_count": 7,
      "outputs": [
        {
          "output_type": "stream",
          "name": "stdout",
          "text": [
            "--2022-03-06 14:58:37--  https://dlcdn.apache.org/spark/spark-3.0.3/spark-3.0.3-bin-hadoop2.7.tgz\n",
            "Resolving dlcdn.apache.org (dlcdn.apache.org)... 151.101.2.132, 2a04:4e42::644\n",
            "Connecting to dlcdn.apache.org (dlcdn.apache.org)|151.101.2.132|:443... connected.\n",
            "HTTP request sent, awaiting response... 200 OK\n",
            "Length: 220400553 (210M) [application/x-gzip]\n",
            "Saving to: ‘spark-3.0.3-bin-hadoop2.7.tgz’\n",
            "\n",
            "spark-3.0.3-bin-had 100%[===================>] 210.19M   252MB/s    in 0.8s    \n",
            "\n",
            "2022-03-06 14:58:38 (252 MB/s) - ‘spark-3.0.3-bin-hadoop2.7.tgz’ saved [220400553/220400553]\n",
            "\n"
          ]
        }
      ]
    },
    {
      "cell_type": "code",
      "source": [
        "!tar xf spark-3.0.3-bin-hadoop2.7.tgz"
      ],
      "metadata": {
        "id": "4vqCfwnpawG1"
      },
      "execution_count": 8,
      "outputs": []
    },
    {
      "cell_type": "code",
      "source": [
        "!pip install -q findspark"
      ],
      "metadata": {
        "id": "Mxg9q5JdcA0j"
      },
      "execution_count": 9,
      "outputs": []
    },
    {
      "cell_type": "code",
      "source": [
        "!pip install pyspark==3.0.3"
      ],
      "metadata": {
        "colab": {
          "base_uri": "https://localhost:8080/"
        },
        "id": "yQJHrvQ_cHiK",
        "outputId": "2481c449-f773-4ae7-9e78-65ab77f99357"
      },
      "execution_count": 10,
      "outputs": [
        {
          "output_type": "stream",
          "name": "stdout",
          "text": [
            "Collecting pyspark==3.0.3\n",
            "  Downloading pyspark-3.0.3.tar.gz (209.1 MB)\n",
            "\u001b[K     |████████████████████████████████| 209.1 MB 63 kB/s \n",
            "\u001b[?25hCollecting py4j==0.10.9\n",
            "  Downloading py4j-0.10.9-py2.py3-none-any.whl (198 kB)\n",
            "\u001b[K     |████████████████████████████████| 198 kB 61.2 MB/s \n",
            "\u001b[?25hBuilding wheels for collected packages: pyspark\n",
            "  Building wheel for pyspark (setup.py) ... \u001b[?25l\u001b[?25hdone\n",
            "  Created wheel for pyspark: filename=pyspark-3.0.3-py2.py3-none-any.whl size=209435971 sha256=129bae63ad949d20f988cc84eaca6cad4f2e46b3778d5c3c383d60d7d1fa6c14\n",
            "  Stored in directory: /root/.cache/pip/wheels/7e/6d/0a/6b0bf301bc056d9af03194b732b9f49ad2fceb205aab2984fd\n",
            "Successfully built pyspark\n",
            "Installing collected packages: py4j, pyspark\n",
            "Successfully installed py4j-0.10.9 pyspark-3.0.3\n"
          ]
        }
      ]
    },
    {
      "cell_type": "code",
      "source": [
        "import os\n",
        "os.environ[\"JAVA_HOME\"] = \"/usr/lib/jvm/java-8-openjdk-amd64\"\n",
        "os.environ[\"SPARK_HOME\"] = \"spark-3.0.3-bin-hadoop2.7\""
      ],
      "metadata": {
        "id": "pdROnL5icb3x"
      },
      "execution_count": 11,
      "outputs": []
    },
    {
      "cell_type": "code",
      "source": [
        "from google.colab import drive\n",
        "drive.mount('/content/drive')"
      ],
      "metadata": {
        "id": "kXbiBn7TlTlj",
        "colab": {
          "base_uri": "https://localhost:8080/"
        },
        "outputId": "84c61649-053c-453f-9626-4e0848bbba3c"
      },
      "execution_count": 12,
      "outputs": [
        {
          "output_type": "stream",
          "name": "stdout",
          "text": [
            "Mounted at /content/drive\n"
          ]
        }
      ]
    },
    {
      "cell_type": "code",
      "execution_count": 13,
      "metadata": {
        "id": "VU8kC2nJTUdB"
      },
      "outputs": [],
      "source": [
        "from pyspark.sql import SparkSession"
      ]
    },
    {
      "cell_type": "code",
      "execution_count": 14,
      "metadata": {
        "id": "flNZrdlNDuas"
      },
      "outputs": [],
      "source": [
        "spark = SparkSession.builder.appName('DSCI632 - Final Project').getOrCreate()"
      ]
    },
    {
      "cell_type": "code",
      "source": [
        "import pandas as pd\n",
        "import numpy as np"
      ],
      "metadata": {
        "id": "SxvIeKvZD0U6"
      },
      "execution_count": 15,
      "outputs": []
    },
    {
      "cell_type": "markdown",
      "metadata": {
        "id": "ty-Hw33MVk3v"
      },
      "source": [
        "# Data Import and Exploration"
      ]
    },
    {
      "cell_type": "code",
      "execution_count": 16,
      "metadata": {
        "id": "aYIxVdzxKI6e"
      },
      "outputs": [],
      "source": [
        "raw_data = spark.read.format('csv').option('header', 'true').option('inferSchema', 'true').load('/content/drive/MyDrive/Colab Notebooks/DSCI-632/project/data/ObesityDataSet_raw_and_data_sinthetic.csv')"
      ]
    },
    {
      "cell_type": "code",
      "source": [
        "raw_data.show(5)"
      ],
      "metadata": {
        "colab": {
          "base_uri": "https://localhost:8080/"
        },
        "id": "Fp-b1zMuDhbE",
        "outputId": "9d9c1c71-341a-4c11-bfab-5ecec70849ef"
      },
      "execution_count": 17,
      "outputs": [
        {
          "output_type": "stream",
          "name": "stdout",
          "text": [
            "+------+----+------+------+------------------------------+----+----+---+---------+-----+----+---+---+---+----------+--------------------+-------------------+\n",
            "|Gender| Age|Height|Weight|family_history_with_overweight|FAVC|FCVC|NCP|     CAEC|SMOKE|CH2O|SCC|FAF|TUE|      CALC|              MTRANS|         NObeyesdad|\n",
            "+------+----+------+------+------------------------------+----+----+---+---------+-----+----+---+---+---+----------+--------------------+-------------------+\n",
            "|Female|21.0|  1.62|  64.0|                           yes|  no| 2.0|3.0|Sometimes|   no| 2.0| no|0.0|1.0|        no|Public_Transporta...|      Normal_Weight|\n",
            "|Female|21.0|  1.52|  56.0|                           yes|  no| 3.0|3.0|Sometimes|  yes| 3.0|yes|3.0|0.0| Sometimes|Public_Transporta...|      Normal_Weight|\n",
            "|  Male|23.0|   1.8|  77.0|                           yes|  no| 2.0|3.0|Sometimes|   no| 2.0| no|2.0|1.0|Frequently|Public_Transporta...|      Normal_Weight|\n",
            "|  Male|27.0|   1.8|  87.0|                            no|  no| 3.0|3.0|Sometimes|   no| 2.0| no|2.0|0.0|Frequently|             Walking| Overweight_Level_I|\n",
            "|  Male|22.0|  1.78|  89.8|                            no|  no| 2.0|1.0|Sometimes|   no| 2.0| no|0.0|0.0| Sometimes|Public_Transporta...|Overweight_Level_II|\n",
            "+------+----+------+------+------------------------------+----+----+---+---------+-----+----+---+---+---+----------+--------------------+-------------------+\n",
            "only showing top 5 rows\n",
            "\n"
          ]
        }
      ]
    },
    {
      "cell_type": "code",
      "source": [
        "# the data attributes and types are in the top part of the arff file\n",
        "!pip install liac-arff"
      ],
      "metadata": {
        "colab": {
          "base_uri": "https://localhost:8080/"
        },
        "id": "jqiKhRPoFavL",
        "outputId": "0f839b76-ea8c-4cd5-d3ec-25fe8bf225a1"
      },
      "execution_count": 18,
      "outputs": [
        {
          "output_type": "stream",
          "name": "stdout",
          "text": [
            "Collecting liac-arff\n",
            "  Downloading liac-arff-2.5.0.tar.gz (13 kB)\n",
            "Building wheels for collected packages: liac-arff\n",
            "  Building wheel for liac-arff (setup.py) ... \u001b[?25l\u001b[?25hdone\n",
            "  Created wheel for liac-arff: filename=liac_arff-2.5.0-py3-none-any.whl size=11732 sha256=0444d10de87f8b5e2a0abef41785d4af65d3ff34de61881a7c3ff81c5e2b6622\n",
            "  Stored in directory: /root/.cache/pip/wheels/1f/0f/15/332ca86cbebf25ddf98518caaf887945fbe1712b97a0f2493b\n",
            "Successfully built liac-arff\n",
            "Installing collected packages: liac-arff\n",
            "Successfully installed liac-arff-2.5.0\n"
          ]
        }
      ]
    },
    {
      "cell_type": "code",
      "source": [
        "import arff\n",
        "\n",
        "with open('/content/drive/MyDrive/Colab Notebooks/DSCI-632/project/data/ObesityDataSet_raw_and_data_sinthetic.arff') as handle:\n",
        "  data = arff.load(handle)\n",
        "\n",
        "#print(data['attributes'])\n",
        "for attribute in data['attributes']:\n",
        "  print(attribute)"
      ],
      "metadata": {
        "colab": {
          "base_uri": "https://localhost:8080/"
        },
        "id": "QVkz3eEiDlJC",
        "outputId": "f00dcbef-6763-406d-88b0-bc5af70cf073"
      },
      "execution_count": 19,
      "outputs": [
        {
          "output_type": "stream",
          "name": "stdout",
          "text": [
            "('Gender', ['Female', 'Male'])\n",
            "('Age', 'NUMERIC')\n",
            "('Height', 'NUMERIC')\n",
            "('Weight', 'NUMERIC')\n",
            "('family_history_with_overweight', ['yes', 'no'])\n",
            "('FAVC', ['yes', 'no'])\n",
            "('FCVC', 'NUMERIC')\n",
            "('NCP', 'NUMERIC')\n",
            "('CAEC', ['no', 'Sometimes', 'Frequently', 'Always'])\n",
            "('SMOKE', ['yes', 'no'])\n",
            "('CH2O', 'NUMERIC')\n",
            "('SCC', ['yes', 'no'])\n",
            "('FAF', 'NUMERIC')\n",
            "('TUE', 'NUMERIC')\n",
            "('CALC', ['no', 'Sometimes', 'Frequently', 'Always'])\n",
            "('MTRANS', ['Automobile', 'Motorbike', 'Bike', 'Public_Transportation', 'Walking'])\n",
            "('NObeyesdad', ['Insufficient_Weight', 'Normal_Weight', 'Overweight_Level_I', 'Overweight_Level_II', 'Obesity_Type_I', 'Obesity_Type_II', 'Obesity_Type_III'])\n"
          ]
        }
      ]
    },
    {
      "cell_type": "markdown",
      "source": [
        "According to Palechor and de la Hoz Manotas (2019), the attributes related with eating habits are: \n",
        "- Frequent consumption of high caloric food (FAVC) \n",
        "- Frequency of consumption of vegetables (FCVC) \n",
        "- Number of main meals (NCP)\n",
        "- Consumption of food between meals (CAEC) \n",
        "- Consumption of water daily (CH20) \n",
        "- Consumption of alcohol (CALC)\n",
        "\n",
        "The attributes related with the physical condition are: \n",
        "- Calories consumption monitoring (SCC) \n",
        "- Physical activity frequency (FAF) \n",
        "- Time using technology devices (TUE) \n",
        "- Transportation used (MTRANS)\n",
        "\n",
        "Other variables included are: \n",
        "- Gender \n",
        "- Age\n",
        "- Height\n",
        "- Weight \n",
        "\n",
        "Finally, all data is labeled and the class variable NObesity has values: \n",
        "1. Insufficient Weight\n",
        "2. Normal Weight\n",
        "3. Overweight Level I\n",
        "4. Overweight Level II\n",
        "5. Obesity Type I\n",
        "6. Obesity Type II and \n",
        "7. Obesity Type III \n",
        "\n",
        "based on the equation Mass Body Index = Weight / (weight * height) and information from WHO and Mexican Normativity. "
      ],
      "metadata": {
        "id": "0wMmitwxw8GZ"
      }
    },
    {
      "cell_type": "markdown",
      "source": [
        "## EXPLORATORY DATA ANALYSIS"
      ],
      "metadata": {
        "id": "PkaAvQsYCiCX"
      }
    },
    {
      "cell_type": "code",
      "source": [
        "# Shape of data and missingness\n",
        "print((raw_data.count(), len(raw_data.columns)))\n"
      ],
      "metadata": {
        "id": "AV6tG_3JWMEr",
        "colab": {
          "base_uri": "https://localhost:8080/"
        },
        "outputId": "d3d1f93f-fc6b-4252-a84c-03482693569a"
      },
      "execution_count": 23,
      "outputs": [
        {
          "output_type": "stream",
          "name": "stdout",
          "text": [
            "(2111, 17)\n"
          ]
        }
      ]
    },
    {
      "cell_type": "code",
      "source": [
        "# check for missing values\n",
        "from pyspark.sql.functions import col,isnan, when, count\n",
        "raw_data.select([count(when(isnan(c) | col(c).isNull(), c)).alias(c) for c in raw_data.columns]).show()"
      ],
      "metadata": {
        "colab": {
          "base_uri": "https://localhost:8080/"
        },
        "id": "Td0KZIyFzbLb",
        "outputId": "2142115f-c805-447c-9325-f0758866cfb7"
      },
      "execution_count": 24,
      "outputs": [
        {
          "output_type": "stream",
          "name": "stdout",
          "text": [
            "+------+---+------+------+------------------------------+----+----+---+----+-----+----+---+---+---+----+------+----------+\n",
            "|Gender|Age|Height|Weight|family_history_with_overweight|FAVC|FCVC|NCP|CAEC|SMOKE|CH2O|SCC|FAF|TUE|CALC|MTRANS|NObeyesdad|\n",
            "+------+---+------+------+------------------------------+----+----+---+----+-----+----+---+---+---+----+------+----------+\n",
            "|     0|  0|     0|     0|                             0|   0|   0|  0|   0|    0|   0|  0|  0|  0|   0|     0|         0|\n",
            "+------+---+------+------+------------------------------+----+----+---+----+-----+----+---+---+---+----+------+----------+\n",
            "\n"
          ]
        }
      ]
    },
    {
      "cell_type": "markdown",
      "source": [
        "We find that the data has no missing values so we don't need to worry about imputation."
      ],
      "metadata": {
        "id": "EmNTzZZhzn86"
      }
    },
    {
      "cell_type": "markdown",
      "source": [
        "Check the column types and fix any issues.  "
      ],
      "metadata": {
        "id": "Bbc_wMLzz3MP"
      }
    },
    {
      "cell_type": "code",
      "source": [
        "raw_data.printSchema()"
      ],
      "metadata": {
        "colab": {
          "base_uri": "https://localhost:8080/"
        },
        "id": "tnTF3k3Kzt9r",
        "outputId": "e9390366-5cd6-418a-c9c0-e5105695d521"
      },
      "execution_count": 25,
      "outputs": [
        {
          "output_type": "stream",
          "name": "stdout",
          "text": [
            "root\n",
            " |-- Gender: string (nullable = true)\n",
            " |-- Age: double (nullable = true)\n",
            " |-- Height: double (nullable = true)\n",
            " |-- Weight: double (nullable = true)\n",
            " |-- family_history_with_overweight: string (nullable = true)\n",
            " |-- FAVC: string (nullable = true)\n",
            " |-- FCVC: double (nullable = true)\n",
            " |-- NCP: double (nullable = true)\n",
            " |-- CAEC: string (nullable = true)\n",
            " |-- SMOKE: string (nullable = true)\n",
            " |-- CH2O: double (nullable = true)\n",
            " |-- SCC: string (nullable = true)\n",
            " |-- FAF: double (nullable = true)\n",
            " |-- TUE: double (nullable = true)\n",
            " |-- CALC: string (nullable = true)\n",
            " |-- MTRANS: string (nullable = true)\n",
            " |-- NObeyesdad: string (nullable = true)\n",
            "\n"
          ]
        }
      ]
    },
    {
      "cell_type": "markdown",
      "source": [
        "From the description of the questions of the survey data (Table 1) in Palechor and de la Hoz Manotas (2019) we expect the all the attributes to be categorical except for age, height, and weight.\n",
        " \n",
        "Let's check how many unique values are in each column."
      ],
      "metadata": {
        "id": "xSUU9FP42KMx"
      }
    },
    {
      "cell_type": "code",
      "source": [
        "from pyspark.sql.functions import countDistinct\n",
        "raw_data.agg(*(countDistinct(col(c)).alias(c) for c in raw_data.columns)).show()\n"
      ],
      "metadata": {
        "colab": {
          "base_uri": "https://localhost:8080/"
        },
        "id": "uzTv3v_E0Ttc",
        "outputId": "d639638d-03e2-43fb-9b0d-84b841221ccc"
      },
      "execution_count": 30,
      "outputs": [
        {
          "output_type": "stream",
          "name": "stdout",
          "text": [
            "+------+----+------+------+------------------------------+----+----+---+----+-----+----+---+----+----+----+------+----------+\n",
            "|Gender| Age|Height|Weight|family_history_with_overweight|FAVC|FCVC|NCP|CAEC|SMOKE|CH2O|SCC| FAF| TUE|CALC|MTRANS|NObeyesdad|\n",
            "+------+----+------+------+------------------------------+----+----+---+----+-----+----+---+----+----+----+------+----------+\n",
            "|     2|1402|  1574|  1525|                             2|   2| 810|635|   4|    2|1268|  2|1190|1129|   4|     5|         7|\n",
            "+------+----+------+------+------------------------------+----+----+---+----+-----+----+---+----+----+----+------+----------+\n",
            "\n"
          ]
        }
      ]
    },
    {
      "cell_type": "markdown",
      "source": [
        "Based on the number of unique values, this doesn't seem to be the case.  FCVC, NCP, CH2O, FAF, and TUE have too many values, and don't correspond to the \"Possible Answers\" expected in the survey per Table 1 in the paper. \n",
        "\n",
        "For example, for FAF (Physical activity frequency) the possible answers are supposed to be: \"I do not have\", '1 or 2 days', '2 or 4 days', '4 or 5 days'.  Therefore there should only be 4 distinct values in this column. But examining it shows:"
      ],
      "metadata": {
        "id": "wdqXXh6tCeHd"
      }
    },
    {
      "cell_type": "code",
      "source": [
        "raw_data.select('FAF').distinct().show()"
      ],
      "metadata": {
        "colab": {
          "base_uri": "https://localhost:8080/"
        },
        "id": "eMaurnVZCcWO",
        "outputId": "38b1a96d-e9d8-4bb3-d0e4-a0e7e1217c2f"
      },
      "execution_count": 68,
      "outputs": [
        {
          "output_type": "stream",
          "name": "stdout",
          "text": [
            "+--------+\n",
            "|     FAF|\n",
            "+--------+\n",
            "|1.967973|\n",
            "|0.133398|\n",
            "|0.462951|\n",
            "| 1.97073|\n",
            "|2.876696|\n",
            "|1.416076|\n",
            "|0.855973|\n",
            "|1.018158|\n",
            "|0.747528|\n",
            "| 1.80674|\n",
            "|1.917383|\n",
            "|1.144076|\n",
            "|0.886448|\n",
            "| 0.06275|\n",
            "|1.467863|\n",
            "|0.019404|\n",
            "|1.513029|\n",
            "|0.178023|\n",
            "|0.932792|\n",
            "| 0.94522|\n",
            "+--------+\n",
            "only showing top 20 rows\n",
            "\n"
          ]
        }
      ]
    },
    {
      "cell_type": "code",
      "source": [
        "# looking at all of them:\n",
        "cols_to_check = ['FCVC', 'NCP', 'CH2O', 'FAF', 'TUE']\n",
        "for colName in cols_to_check:\n",
        "  raw_data.select(colName).distinct().show(5)"
      ],
      "metadata": {
        "colab": {
          "base_uri": "https://localhost:8080/"
        },
        "id": "or2LURwkDbJl",
        "outputId": "f6ced9ca-5553-4ead-c92e-606c5b185c3e"
      },
      "execution_count": 69,
      "outputs": [
        {
          "output_type": "stream",
          "name": "stdout",
          "text": [
            "+--------+\n",
            "|    FCVC|\n",
            "+--------+\n",
            "| 2.39728|\n",
            "|2.628791|\n",
            "|1.220024|\n",
            "| 2.55996|\n",
            "|1.780746|\n",
            "+--------+\n",
            "only showing top 5 rows\n",
            "\n",
            "+--------+\n",
            "|     NCP|\n",
            "+--------+\n",
            "|2.581015|\n",
            "|3.098399|\n",
            "|2.964024|\n",
            "|1.000414|\n",
            "|2.228113|\n",
            "+--------+\n",
            "only showing top 5 rows\n",
            "\n",
            "+--------+\n",
            "|    CH2O|\n",
            "+--------+\n",
            "|2.566629|\n",
            "|1.145761|\n",
            "|2.721356|\n",
            "|2.111913|\n",
            "|1.753464|\n",
            "+--------+\n",
            "only showing top 5 rows\n",
            "\n",
            "+--------+\n",
            "|     FAF|\n",
            "+--------+\n",
            "|1.967973|\n",
            "|0.133398|\n",
            "|0.462951|\n",
            "| 1.97073|\n",
            "|2.876696|\n",
            "+--------+\n",
            "only showing top 5 rows\n",
            "\n",
            "+--------+\n",
            "|     TUE|\n",
            "+--------+\n",
            "|1.409198|\n",
            "|0.786609|\n",
            "|0.673408|\n",
            "| 0.93648|\n",
            "|0.101867|\n",
            "+--------+\n",
            "only showing top 5 rows\n",
            "\n"
          ]
        }
      ]
    },
    {
      "cell_type": "markdown",
      "source": [
        "We will therefore treat these as numeric attributes."
      ],
      "metadata": {
        "id": "OQBIaFJXD3Gb"
      }
    },
    {
      "cell_type": "markdown",
      "source": [
        "####Exploring the Numeric Attributes:"
      ],
      "metadata": {
        "id": "f25GBX4NPjXZ"
      }
    },
    {
      "cell_type": "markdown",
      "source": [
        "Some basic statistics:"
      ],
      "metadata": {
        "id": "RWtayjCaJEwm"
      }
    },
    {
      "cell_type": "code",
      "source": [
        "raw_data.toPandas().describe()"
      ],
      "metadata": {
        "colab": {
          "base_uri": "https://localhost:8080/",
          "height": 300
        },
        "id": "cplBIe-D3ImQ",
        "outputId": "de26fb0f-0a59-432c-a011-da966c2693ba"
      },
      "execution_count": 38,
      "outputs": [
        {
          "output_type": "execute_result",
          "data": {
            "text/html": [
              "\n",
              "  <div id=\"df-8003b029-fd8b-4dc9-852b-a9dd287ddc67\">\n",
              "    <div class=\"colab-df-container\">\n",
              "      <div>\n",
              "<style scoped>\n",
              "    .dataframe tbody tr th:only-of-type {\n",
              "        vertical-align: middle;\n",
              "    }\n",
              "\n",
              "    .dataframe tbody tr th {\n",
              "        vertical-align: top;\n",
              "    }\n",
              "\n",
              "    .dataframe thead th {\n",
              "        text-align: right;\n",
              "    }\n",
              "</style>\n",
              "<table border=\"1\" class=\"dataframe\">\n",
              "  <thead>\n",
              "    <tr style=\"text-align: right;\">\n",
              "      <th></th>\n",
              "      <th>Age</th>\n",
              "      <th>Height</th>\n",
              "      <th>Weight</th>\n",
              "      <th>FCVC</th>\n",
              "      <th>NCP</th>\n",
              "      <th>CH2O</th>\n",
              "      <th>FAF</th>\n",
              "      <th>TUE</th>\n",
              "    </tr>\n",
              "  </thead>\n",
              "  <tbody>\n",
              "    <tr>\n",
              "      <th>count</th>\n",
              "      <td>2111.000000</td>\n",
              "      <td>2111.000000</td>\n",
              "      <td>2111.000000</td>\n",
              "      <td>2111.000000</td>\n",
              "      <td>2111.000000</td>\n",
              "      <td>2111.000000</td>\n",
              "      <td>2111.000000</td>\n",
              "      <td>2111.000000</td>\n",
              "    </tr>\n",
              "    <tr>\n",
              "      <th>mean</th>\n",
              "      <td>24.312600</td>\n",
              "      <td>1.701677</td>\n",
              "      <td>86.586058</td>\n",
              "      <td>2.419043</td>\n",
              "      <td>2.685628</td>\n",
              "      <td>2.008011</td>\n",
              "      <td>1.010298</td>\n",
              "      <td>0.657866</td>\n",
              "    </tr>\n",
              "    <tr>\n",
              "      <th>std</th>\n",
              "      <td>6.345968</td>\n",
              "      <td>0.093305</td>\n",
              "      <td>26.191172</td>\n",
              "      <td>0.533927</td>\n",
              "      <td>0.778039</td>\n",
              "      <td>0.612953</td>\n",
              "      <td>0.850592</td>\n",
              "      <td>0.608927</td>\n",
              "    </tr>\n",
              "    <tr>\n",
              "      <th>min</th>\n",
              "      <td>14.000000</td>\n",
              "      <td>1.450000</td>\n",
              "      <td>39.000000</td>\n",
              "      <td>1.000000</td>\n",
              "      <td>1.000000</td>\n",
              "      <td>1.000000</td>\n",
              "      <td>0.000000</td>\n",
              "      <td>0.000000</td>\n",
              "    </tr>\n",
              "    <tr>\n",
              "      <th>25%</th>\n",
              "      <td>19.947192</td>\n",
              "      <td>1.630000</td>\n",
              "      <td>65.473343</td>\n",
              "      <td>2.000000</td>\n",
              "      <td>2.658738</td>\n",
              "      <td>1.584812</td>\n",
              "      <td>0.124505</td>\n",
              "      <td>0.000000</td>\n",
              "    </tr>\n",
              "    <tr>\n",
              "      <th>50%</th>\n",
              "      <td>22.777890</td>\n",
              "      <td>1.700499</td>\n",
              "      <td>83.000000</td>\n",
              "      <td>2.385502</td>\n",
              "      <td>3.000000</td>\n",
              "      <td>2.000000</td>\n",
              "      <td>1.000000</td>\n",
              "      <td>0.625350</td>\n",
              "    </tr>\n",
              "    <tr>\n",
              "      <th>75%</th>\n",
              "      <td>26.000000</td>\n",
              "      <td>1.768464</td>\n",
              "      <td>107.430682</td>\n",
              "      <td>3.000000</td>\n",
              "      <td>3.000000</td>\n",
              "      <td>2.477420</td>\n",
              "      <td>1.666678</td>\n",
              "      <td>1.000000</td>\n",
              "    </tr>\n",
              "    <tr>\n",
              "      <th>max</th>\n",
              "      <td>61.000000</td>\n",
              "      <td>1.980000</td>\n",
              "      <td>173.000000</td>\n",
              "      <td>3.000000</td>\n",
              "      <td>4.000000</td>\n",
              "      <td>3.000000</td>\n",
              "      <td>3.000000</td>\n",
              "      <td>2.000000</td>\n",
              "    </tr>\n",
              "  </tbody>\n",
              "</table>\n",
              "</div>\n",
              "      <button class=\"colab-df-convert\" onclick=\"convertToInteractive('df-8003b029-fd8b-4dc9-852b-a9dd287ddc67')\"\n",
              "              title=\"Convert this dataframe to an interactive table.\"\n",
              "              style=\"display:none;\">\n",
              "        \n",
              "  <svg xmlns=\"http://www.w3.org/2000/svg\" height=\"24px\"viewBox=\"0 0 24 24\"\n",
              "       width=\"24px\">\n",
              "    <path d=\"M0 0h24v24H0V0z\" fill=\"none\"/>\n",
              "    <path d=\"M18.56 5.44l.94 2.06.94-2.06 2.06-.94-2.06-.94-.94-2.06-.94 2.06-2.06.94zm-11 1L8.5 8.5l.94-2.06 2.06-.94-2.06-.94L8.5 2.5l-.94 2.06-2.06.94zm10 10l.94 2.06.94-2.06 2.06-.94-2.06-.94-.94-2.06-.94 2.06-2.06.94z\"/><path d=\"M17.41 7.96l-1.37-1.37c-.4-.4-.92-.59-1.43-.59-.52 0-1.04.2-1.43.59L10.3 9.45l-7.72 7.72c-.78.78-.78 2.05 0 2.83L4 21.41c.39.39.9.59 1.41.59.51 0 1.02-.2 1.41-.59l7.78-7.78 2.81-2.81c.8-.78.8-2.07 0-2.86zM5.41 20L4 18.59l7.72-7.72 1.47 1.35L5.41 20z\"/>\n",
              "  </svg>\n",
              "      </button>\n",
              "      \n",
              "  <style>\n",
              "    .colab-df-container {\n",
              "      display:flex;\n",
              "      flex-wrap:wrap;\n",
              "      gap: 12px;\n",
              "    }\n",
              "\n",
              "    .colab-df-convert {\n",
              "      background-color: #E8F0FE;\n",
              "      border: none;\n",
              "      border-radius: 50%;\n",
              "      cursor: pointer;\n",
              "      display: none;\n",
              "      fill: #1967D2;\n",
              "      height: 32px;\n",
              "      padding: 0 0 0 0;\n",
              "      width: 32px;\n",
              "    }\n",
              "\n",
              "    .colab-df-convert:hover {\n",
              "      background-color: #E2EBFA;\n",
              "      box-shadow: 0px 1px 2px rgba(60, 64, 67, 0.3), 0px 1px 3px 1px rgba(60, 64, 67, 0.15);\n",
              "      fill: #174EA6;\n",
              "    }\n",
              "\n",
              "    [theme=dark] .colab-df-convert {\n",
              "      background-color: #3B4455;\n",
              "      fill: #D2E3FC;\n",
              "    }\n",
              "\n",
              "    [theme=dark] .colab-df-convert:hover {\n",
              "      background-color: #434B5C;\n",
              "      box-shadow: 0px 1px 3px 1px rgba(0, 0, 0, 0.15);\n",
              "      filter: drop-shadow(0px 1px 2px rgba(0, 0, 0, 0.3));\n",
              "      fill: #FFFFFF;\n",
              "    }\n",
              "  </style>\n",
              "\n",
              "      <script>\n",
              "        const buttonEl =\n",
              "          document.querySelector('#df-8003b029-fd8b-4dc9-852b-a9dd287ddc67 button.colab-df-convert');\n",
              "        buttonEl.style.display =\n",
              "          google.colab.kernel.accessAllowed ? 'block' : 'none';\n",
              "\n",
              "        async function convertToInteractive(key) {\n",
              "          const element = document.querySelector('#df-8003b029-fd8b-4dc9-852b-a9dd287ddc67');\n",
              "          const dataTable =\n",
              "            await google.colab.kernel.invokeFunction('convertToInteractive',\n",
              "                                                     [key], {});\n",
              "          if (!dataTable) return;\n",
              "\n",
              "          const docLinkHtml = 'Like what you see? Visit the ' +\n",
              "            '<a target=\"_blank\" href=https://colab.research.google.com/notebooks/data_table.ipynb>data table notebook</a>'\n",
              "            + ' to learn more about interactive tables.';\n",
              "          element.innerHTML = '';\n",
              "          dataTable['output_type'] = 'display_data';\n",
              "          await google.colab.output.renderOutput(dataTable, element);\n",
              "          const docLink = document.createElement('div');\n",
              "          docLink.innerHTML = docLinkHtml;\n",
              "          element.appendChild(docLink);\n",
              "        }\n",
              "      </script>\n",
              "    </div>\n",
              "  </div>\n",
              "  "
            ],
            "text/plain": [
              "               Age       Height       Weight         FCVC          NCP  \\\n",
              "count  2111.000000  2111.000000  2111.000000  2111.000000  2111.000000   \n",
              "mean     24.312600     1.701677    86.586058     2.419043     2.685628   \n",
              "std       6.345968     0.093305    26.191172     0.533927     0.778039   \n",
              "min      14.000000     1.450000    39.000000     1.000000     1.000000   \n",
              "25%      19.947192     1.630000    65.473343     2.000000     2.658738   \n",
              "50%      22.777890     1.700499    83.000000     2.385502     3.000000   \n",
              "75%      26.000000     1.768464   107.430682     3.000000     3.000000   \n",
              "max      61.000000     1.980000   173.000000     3.000000     4.000000   \n",
              "\n",
              "              CH2O          FAF          TUE  \n",
              "count  2111.000000  2111.000000  2111.000000  \n",
              "mean      2.008011     1.010298     0.657866  \n",
              "std       0.612953     0.850592     0.608927  \n",
              "min       1.000000     0.000000     0.000000  \n",
              "25%       1.584812     0.124505     0.000000  \n",
              "50%       2.000000     1.000000     0.625350  \n",
              "75%       2.477420     1.666678     1.000000  \n",
              "max       3.000000     3.000000     2.000000  "
            ]
          },
          "metadata": {},
          "execution_count": 38
        }
      ]
    },
    {
      "cell_type": "code",
      "source": [
        "numeric_attrs_df = raw_data[[\"Age\", \"Height\", \"Weight\", \"FCVC\", \"NCP\", \"CH2O\", \"FAF\", \"TUE\"]]\n",
        "\n",
        "# for doing the visualizations we will convert to pandas dataframe, this is better and more time-efficient than doing .collect()\n",
        "numeric_pd_df = numeric_attrs_df.toPandas()"
      ],
      "metadata": {
        "id": "GAeV9q1gNLfU"
      },
      "execution_count": 126,
      "outputs": []
    },
    {
      "cell_type": "code",
      "source": [
        "import matplotlib.pyplot as plt\n",
        "\n",
        "def plot_dist(colName):\n",
        "  x = numeric_pd_df[colName]\n",
        "  minbin = min(numeric_pd_df[colName])\n",
        "  maxbin = max(numeric_pd_df[colName])\n",
        "  bin_step = (maxbin - minbin)/10\n",
        "  bins = np.arange(minbin, maxbin, bin_step)\n",
        "\n",
        "  plt.figure(figsize=(10,8))\n",
        "  plt.hist(x, bins, alpha=0.8, histtype='bar')\n",
        "\n",
        "  plt.xlabel(colName)\n",
        "  plt.ylabel('Frequency')\n",
        "  plt.xticks(bins)\n",
        "  plt.show()"
      ],
      "metadata": {
        "id": "0t45osciSGPV"
      },
      "execution_count": 143,
      "outputs": []
    },
    {
      "cell_type": "code",
      "source": [
        "cols_to_plot = [\"Age\", \"Height\", \"Weight\"]\n",
        "\n",
        "for colName in cols_to_plot:\n",
        "  plot_dist(colName)"
      ],
      "metadata": {
        "colab": {
          "base_uri": "https://localhost:8080/",
          "height": 1000
        },
        "id": "wLltk_bEUPwb",
        "outputId": "6e542259-3be6-4c97-e645-cdd060b27aff"
      },
      "execution_count": 145,
      "outputs": [
        {
          "output_type": "display_data",
          "data": {
            "image/png": "[encoded data removed]",
            "text/plain": [
              "<Figure size 720x576 with 1 Axes>"
            ]
          },
          "metadata": {
            "needs_background": "light"
          }
        },
        {
          "output_type": "display_data",
          "data": {
            "image/png": "[encoded data removed]",
            "text/plain": [
              "<Figure size 720x576 with 1 Axes>"
            ]
          },
          "metadata": {
            "needs_background": "light"
          }
        },
        {
          "output_type": "display_data",
          "data": {
            "image/png": "[encoded data removed]",
            "text/plain": [
              "<Figure size 720x576 with 1 Axes>"
            ]
          },
          "metadata": {
            "needs_background": "light"
          }
        }
      ]
    },
    {
      "cell_type": "code",
      "source": [
        "# let's check for outliers in the numerical attributes\n",
        "\n",
        "normalized_data=(numeric_pd_df-numeric_pd_df.mean())/numeric_pd_df.std() #normalize the data to make it easier to visualize in one plot\n",
        "normalized_data.plot(kind='box', vert=False)"
      ],
      "metadata": {
        "colab": {
          "base_uri": "https://localhost:8080/",
          "height": 282
        },
        "id": "l1_9sTGv3xQo",
        "outputId": "397b4f7a-a06f-4bd2-e481-c6ec14a109a7"
      },
      "execution_count": 129,
      "outputs": [
        {
          "output_type": "execute_result",
          "data": {
            "text/plain": [
              "<matplotlib.axes._subplots.AxesSubplot at 0x7f91caedf4d0>"
            ]
          },
          "metadata": {},
          "execution_count": 129
        },
        {
          "output_type": "display_data",
          "data": {
            "image/png": "[encoded data removed]",
            "text/plain": [
              "<Figure size 432x288 with 1 Axes>"
            ]
          },
          "metadata": {
            "needs_background": "light"
          }
        }
      ]
    },
    {
      "cell_type": "markdown",
      "source": [
        "We see some outliers for Age, Height, and Weight, but examining the data (max age 61, max height 1.98 meter, max weight 173kg) these are realistic values given normal age, height, and weight values in the population, so we won't do anything about it. NCP (Number of main meals) also has some outliers, but again looking at the data, the max NCP is 4 and the min is 1. These are also realistic and reasonable values so we will not do anything about them. "
      ],
      "metadata": {
        "id": "yMVMGgI2-y6k"
      }
    },
    {
      "cell_type": "markdown",
      "source": [
        "Looking at the correlation matrix of numerical attributes."
      ],
      "metadata": {
        "id": "8dK87dmzEMXz"
      }
    },
    {
      "cell_type": "code",
      "source": [
        "import seaborn as sns\n",
        "\n",
        "data_corr = numeric_pd_df.corr()\n",
        "\n",
        "plt.figure(figsize = (12, 10))\n",
        "sns.heatmap(data_corr, annot = True, cbar=True, cmap=\"BuGn\", linewidths = 2, linecolor = \"white\")\n",
        "plt.title(\"Correlation matrix of numerical attributes\")\n",
        "plt.show()"
      ],
      "metadata": {
        "id": "By6YctgXRLpe",
        "colab": {
          "base_uri": "https://localhost:8080/",
          "height": 607
        },
        "outputId": "3bdf4fa1-0882-45c7-d9ac-cdb9d8a2673a"
      },
      "execution_count": 151,
      "outputs": [
        {
          "output_type": "display_data",
          "data": {
            "image/png": "[encoded data removed]",
            "text/plain": [
              "<Figure size 864x720 with 2 Axes>"
            ]
          },
          "metadata": {
            "needs_background": "light"
          }
        }
      ]
    },
    {
      "cell_type": "markdown",
      "source": [
        "It doesn't appear that there are any strong correlations between any of the numerical attributes."
      ],
      "metadata": {
        "id": "K2KPGqxYHLFH"
      }
    },
    {
      "cell_type": "markdown",
      "source": [
        "####Exploring the Categorical Attributes:"
      ],
      "metadata": {
        "id": "rG5cXeD1PYY0"
      }
    },
    {
      "cell_type": "markdown",
      "source": [
        "Now we check the distinct values in the categorical attributes:"
      ],
      "metadata": {
        "id": "Fz3sAuYvD-4N"
      }
    },
    {
      "cell_type": "code",
      "source": [
        "cat_cols = ['Gender', 'family_history_with_overweight', 'FAVC', 'CAEC', 'SMOKE', 'SCC', 'CALC', 'MTRANS', 'NObeyesdad']\n",
        "\n",
        "for colName in cat_cols:\n",
        "  raw_data.select(colName).distinct().show()\n"
      ],
      "metadata": {
        "colab": {
          "base_uri": "https://localhost:8080/"
        },
        "id": "uO3ejV2I1m7Z",
        "outputId": "e59c932a-4514-4f64-9390-9e34d5cee7c4"
      },
      "execution_count": null,
      "outputs": [
        {
          "output_type": "stream",
          "name": "stdout",
          "text": [
            "+------+\n",
            "|Gender|\n",
            "+------+\n",
            "|Female|\n",
            "|  Male|\n",
            "+------+\n",
            "\n",
            "+------------------------------+\n",
            "|family_history_with_overweight|\n",
            "+------------------------------+\n",
            "|                            no|\n",
            "|                           yes|\n",
            "+------------------------------+\n",
            "\n",
            "+----+\n",
            "|FAVC|\n",
            "+----+\n",
            "|  no|\n",
            "| yes|\n",
            "+----+\n",
            "\n",
            "+----------+\n",
            "|      CAEC|\n",
            "+----------+\n",
            "| Sometimes|\n",
            "|Frequently|\n",
            "|        no|\n",
            "|    Always|\n",
            "+----------+\n",
            "\n",
            "+-----+\n",
            "|SMOKE|\n",
            "+-----+\n",
            "|   no|\n",
            "|  yes|\n",
            "+-----+\n",
            "\n",
            "+---+\n",
            "|SCC|\n",
            "+---+\n",
            "| no|\n",
            "|yes|\n",
            "+---+\n",
            "\n",
            "+----------+\n",
            "|      CALC|\n",
            "+----------+\n",
            "| Sometimes|\n",
            "|Frequently|\n",
            "|        no|\n",
            "|    Always|\n",
            "+----------+\n",
            "\n",
            "+--------------------+\n",
            "|              MTRANS|\n",
            "+--------------------+\n",
            "|                Bike|\n",
            "|             Walking|\n",
            "|          Automobile|\n",
            "|           Motorbike|\n",
            "|Public_Transporta...|\n",
            "+--------------------+\n",
            "\n",
            "+-------------------+\n",
            "|         NObeyesdad|\n",
            "+-------------------+\n",
            "|   Obesity_Type_III|\n",
            "| Overweight_Level_I|\n",
            "|    Obesity_Type_II|\n",
            "|Insufficient_Weight|\n",
            "|Overweight_Level_II|\n",
            "|      Normal_Weight|\n",
            "|     Obesity_Type_I|\n",
            "+-------------------+\n",
            "\n"
          ]
        }
      ]
    },
    {
      "cell_type": "markdown",
      "source": [
        "Check if categorical values are balanced:"
      ],
      "metadata": {
        "id": "m9mu9nFxY2GA"
      }
    },
    {
      "cell_type": "code",
      "source": [
        "for colName in cat_cols:\n",
        "  raw_data.groupby(colName).count().show()"
      ],
      "metadata": {
        "colab": {
          "base_uri": "https://localhost:8080/"
        },
        "id": "jiuJdfLVY689",
        "outputId": "4c16fb26-74ca-4f17-cd3d-9b381d2bef53"
      },
      "execution_count": 163,
      "outputs": [
        {
          "output_type": "stream",
          "name": "stdout",
          "text": [
            "+------+-----+\n",
            "|Gender|count|\n",
            "+------+-----+\n",
            "|Female| 1043|\n",
            "|  Male| 1068|\n",
            "+------+-----+\n",
            "\n",
            "+------------------------------+-----+\n",
            "|family_history_with_overweight|count|\n",
            "+------------------------------+-----+\n",
            "|                            no|  385|\n",
            "|                           yes| 1726|\n",
            "+------------------------------+-----+\n",
            "\n",
            "+----+-----+\n",
            "|FAVC|count|\n",
            "+----+-----+\n",
            "|  no|  245|\n",
            "| yes| 1866|\n",
            "+----+-----+\n",
            "\n",
            "+----------+-----+\n",
            "|      CAEC|count|\n",
            "+----------+-----+\n",
            "| Sometimes| 1765|\n",
            "|Frequently|  242|\n",
            "|        no|   51|\n",
            "|    Always|   53|\n",
            "+----------+-----+\n",
            "\n",
            "+-----+-----+\n",
            "|SMOKE|count|\n",
            "+-----+-----+\n",
            "|   no| 2067|\n",
            "|  yes|   44|\n",
            "+-----+-----+\n",
            "\n",
            "+---+-----+\n",
            "|SCC|count|\n",
            "+---+-----+\n",
            "| no| 2015|\n",
            "|yes|   96|\n",
            "+---+-----+\n",
            "\n",
            "+----------+-----+\n",
            "|      CALC|count|\n",
            "+----------+-----+\n",
            "| Sometimes| 1401|\n",
            "|Frequently|   70|\n",
            "|        no|  639|\n",
            "|    Always|    1|\n",
            "+----------+-----+\n",
            "\n",
            "+--------------------+-----+\n",
            "|              MTRANS|count|\n",
            "+--------------------+-----+\n",
            "|                Bike|    7|\n",
            "|             Walking|   56|\n",
            "|          Automobile|  457|\n",
            "|           Motorbike|   11|\n",
            "|Public_Transporta...| 1580|\n",
            "+--------------------+-----+\n",
            "\n",
            "+-------------------+-----+\n",
            "|         NObeyesdad|count|\n",
            "+-------------------+-----+\n",
            "|   Obesity_Type_III|  324|\n",
            "| Overweight_Level_I|  290|\n",
            "|    Obesity_Type_II|  297|\n",
            "|Insufficient_Weight|  272|\n",
            "|Overweight_Level_II|  290|\n",
            "|      Normal_Weight|  287|\n",
            "|     Obesity_Type_I|  351|\n",
            "+-------------------+-----+\n",
            "\n"
          ]
        }
      ]
    },
    {
      "cell_type": "code",
      "source": [
        "for colName in cat_cols:\n",
        "  raw_data.stat.crosstab(colName, \"NObeyesdad\").show()\n"
      ],
      "metadata": {
        "colab": {
          "base_uri": "https://localhost:8080/"
        },
        "id": "iA8Y6kGvWa3i",
        "outputId": "4a7f773e-fdd6-474e-a231-35eda70929f9"
      },
      "execution_count": 153,
      "outputs": [
        {
          "output_type": "stream",
          "name": "stdout",
          "text": [
            "+-----------------+-------------------+-------------+--------------+---------------+----------------+------------------+-------------------+\n",
            "|Gender_NObeyesdad|Insufficient_Weight|Normal_Weight|Obesity_Type_I|Obesity_Type_II|Obesity_Type_III|Overweight_Level_I|Overweight_Level_II|\n",
            "+-----------------+-------------------+-------------+--------------+---------------+----------------+------------------+-------------------+\n",
            "|             Male|                 99|          146|           195|            295|               1|               145|                187|\n",
            "|           Female|                173|          141|           156|              2|             323|               145|                103|\n",
            "+-----------------+-------------------+-------------+--------------+---------------+----------------+------------------+-------------------+\n",
            "\n",
            "+-----------------------------------------+-------------------+-------------+--------------+---------------+----------------+------------------+-------------------+\n",
            "|family_history_with_overweight_NObeyesdad|Insufficient_Weight|Normal_Weight|Obesity_Type_I|Obesity_Type_II|Obesity_Type_III|Overweight_Level_I|Overweight_Level_II|\n",
            "+-----------------------------------------+-------------------+-------------+--------------+---------------+----------------+------------------+-------------------+\n",
            "|                                       no|                146|          132|             7|              1|               0|                81|                 18|\n",
            "|                                      yes|                126|          155|           344|            296|             324|               209|                272|\n",
            "+-----------------------------------------+-------------------+-------------+--------------+---------------+----------------+------------------+-------------------+\n",
            "\n",
            "+---------------+-------------------+-------------+--------------+---------------+----------------+------------------+-------------------+\n",
            "|FAVC_NObeyesdad|Insufficient_Weight|Normal_Weight|Obesity_Type_I|Obesity_Type_II|Obesity_Type_III|Overweight_Level_I|Overweight_Level_II|\n",
            "+---------------+-------------------+-------------+--------------+---------------+----------------+------------------+-------------------+\n",
            "|             no|                 51|           79|            11|              7|               1|                22|                 74|\n",
            "|            yes|                221|          208|           340|            290|             323|               268|                216|\n",
            "+---------------+-------------------+-------------+--------------+---------------+----------------+------------------+-------------------+\n",
            "\n",
            "+---------------+-------------------+-------------+--------------+---------------+----------------+------------------+-------------------+\n",
            "|CAEC_NObeyesdad|Insufficient_Weight|Normal_Weight|Obesity_Type_I|Obesity_Type_II|Obesity_Type_III|Overweight_Level_I|Overweight_Level_II|\n",
            "+---------------+-------------------+-------------+--------------+---------------+----------------+------------------+-------------------+\n",
            "|     Frequently|                121|           83|             6|              1|               1|                14|                 16|\n",
            "|         Always|                  2|           35|             6|              2|               0|                 5|                  3|\n",
            "|             no|                  3|           10|             1|              1|               0|                35|                  1|\n",
            "|      Sometimes|                146|          159|           338|            293|             323|               236|                270|\n",
            "+---------------+-------------------+-------------+--------------+---------------+----------------+------------------+-------------------+\n",
            "\n",
            "+----------------+-------------------+-------------+--------------+---------------+----------------+------------------+-------------------+\n",
            "|SMOKE_NObeyesdad|Insufficient_Weight|Normal_Weight|Obesity_Type_I|Obesity_Type_II|Obesity_Type_III|Overweight_Level_I|Overweight_Level_II|\n",
            "+----------------+-------------------+-------------+--------------+---------------+----------------+------------------+-------------------+\n",
            "|              no|                271|          274|           345|            282|             323|               287|                285|\n",
            "|             yes|                  1|           13|             6|             15|               1|                 3|                  5|\n",
            "+----------------+-------------------+-------------+--------------+---------------+----------------+------------------+-------------------+\n",
            "\n",
            "+--------------+-------------------+-------------+--------------+---------------+----------------+------------------+-------------------+\n",
            "|SCC_NObeyesdad|Insufficient_Weight|Normal_Weight|Obesity_Type_I|Obesity_Type_II|Obesity_Type_III|Overweight_Level_I|Overweight_Level_II|\n",
            "+--------------+-------------------+-------------+--------------+---------------+----------------+------------------+-------------------+\n",
            "|            no|                250|          257|           349|            296|             324|               253|                286|\n",
            "|           yes|                 22|           30|             2|              1|               0|                37|                  4|\n",
            "+--------------+-------------------+-------------+--------------+---------------+----------------+------------------+-------------------+\n",
            "\n",
            "+---------------+-------------------+-------------+--------------+---------------+----------------+------------------+-------------------+\n",
            "|CALC_NObeyesdad|Insufficient_Weight|Normal_Weight|Obesity_Type_I|Obesity_Type_II|Obesity_Type_III|Overweight_Level_I|Overweight_Level_II|\n",
            "+---------------+-------------------+-------------+--------------+---------------+----------------+------------------+-------------------+\n",
            "|     Frequently|                  1|           18|            14|              2|               0|                16|                 19|\n",
            "|         Always|                  0|            1|             0|              0|               0|                 0|                  0|\n",
            "|             no|                117|          107|           165|             71|               1|                50|                128|\n",
            "|      Sometimes|                154|          161|           172|            224|             323|               224|                143|\n",
            "+---------------+-------------------+-------------+--------------+---------------+----------------+------------------+-------------------+\n",
            "\n",
            "+--------------------+-------------------+-------------+--------------+---------------+----------------+------------------+-------------------+\n",
            "|   MTRANS_NObeyesdad|Insufficient_Weight|Normal_Weight|Obesity_Type_I|Obesity_Type_II|Obesity_Type_III|Overweight_Level_I|Overweight_Level_II|\n",
            "+--------------------+-------------------+-------------+--------------+---------------+----------------+------------------+-------------------+\n",
            "|                Bike|                  0|            4|             0|              1|               0|                 2|                  0|\n",
            "|          Automobile|                 46|           45|           110|             95|               1|                66|                 94|\n",
            "|             Walking|                  6|           32|             2|              1|               0|                 9|                  6|\n",
            "|Public_Transporta...|                220|          200|           236|            200|             323|               212|                189|\n",
            "|           Motorbike|                  0|            6|             3|              0|               0|                 1|                  1|\n",
            "+--------------------+-------------------+-------------+--------------+---------------+----------------+------------------+-------------------+\n",
            "\n",
            "+---------------------+-------------------+-------------+--------------+---------------+----------------+------------------+-------------------+\n",
            "|NObeyesdad_NObeyesdad|Insufficient_Weight|Normal_Weight|Obesity_Type_I|Obesity_Type_II|Obesity_Type_III|Overweight_Level_I|Overweight_Level_II|\n",
            "+---------------------+-------------------+-------------+--------------+---------------+----------------+------------------+-------------------+\n",
            "|      Obesity_Type_II|                  0|            0|             0|            297|               0|                 0|                  0|\n",
            "|  Insufficient_Weight|                272|            0|             0|              0|               0|                 0|                  0|\n",
            "|  Overweight_Level_II|                  0|            0|             0|              0|               0|                 0|                290|\n",
            "|        Normal_Weight|                  0|          287|             0|              0|               0|                 0|                  0|\n",
            "|       Obesity_Type_I|                  0|            0|           351|              0|               0|                 0|                  0|\n",
            "|     Obesity_Type_III|                  0|            0|             0|              0|             324|                 0|                  0|\n",
            "|   Overweight_Level_I|                  0|            0|             0|              0|               0|               290|                  0|\n",
            "+---------------------+-------------------+-------------+--------------+---------------+----------------+------------------+-------------------+\n",
            "\n"
          ]
        }
      ]
    },
    {
      "cell_type": "markdown",
      "source": [
        "Scatter plots to get a visual sense of the relationship of each variable to the target variable."
      ],
      "metadata": {
        "id": "-HvCeHkRqyMX"
      }
    },
    {
      "cell_type": "markdown",
      "source": [
        "##PREDICTING LEVELS OF OBESITY"
      ],
      "metadata": {
        "id": "t2yyet_oRM8h"
      }
    },
    {
      "cell_type": "markdown",
      "source": [
        "Using the SparkML library, I will try different ML models to compare their performance. Will also aim to understand which of the available factors contribute most to obesity.\n",
        "\n",
        "I will primarily use classification methods but will also do one clustering approach for comparison. For classification, I will use Logistic Regression, Decision Tree, an ensemble approach (XGBoost), and a Naive Bayes implementation.  For clustering, I will use K-means.  One approach I was hoping to use is Support Vector Machine. However, our taget variable has more than 2 classes and LinearSVC in Spark ML supports binary classification. Therefore we cannot use use SVM approach with our data.\n",
        "\n",
        "In summary, the methods I have chosen are:\n",
        "- Logistic Regression\n",
        "- Decision Tree\n",
        "- Gradient Boosting (XGBoost)\n",
        "- Naive Bayes\n",
        "- K-means \n",
        "\n",
        "For each method I will evaluate the model using the usual metrics - accuracy, precision, recall, F1 score, and area under ROC curve. In addition, I will assess fit for each model.\n",
        "\n",
        "The first step will be to build a pipeline for preprocessing the data."
      ],
      "metadata": {
        "id": "vvt3mjn6RVyA"
      }
    },
    {
      "cell_type": "markdown",
      "source": [
        "#### Pipeline for Preprocessing the Data"
      ],
      "metadata": {
        "id": "m78nVwceSfaY"
      }
    },
    {
      "cell_type": "code",
      "source": [
        "from pyspark.ml import Pipeline\n",
        "from pyspark.ml.base import Transformer\n",
        "from pyspark.ml.feature import OneHotEncoder\n",
        "from pyspark.ml.feature import StringIndexer\n",
        "from pyspark.ml.feature import VectorAssembler\n",
        "from pyspark.ml.feature import MaxAbsScaler\n",
        "\n",
        "\n",
        "# prepare the lists of features\n",
        "numeric_features = [\"Age\", \"Height\", \"Weight\", \"FCVC\", \"NCP\", \"CH2O\", \"FAF\", \"TUE\"]\n",
        "cat_features = ['Gender', 'family_history_with_overweight', 'FAVC', 'CAEC', 'SMOKE', 'SCC', 'CALC', 'MTRANS']\n",
        "cat_cols_ind = []\n",
        "for colName in cat_features:\n",
        "  cat_cols_ind.append(colName + \"_index\")\n",
        "\n",
        "# Convert all categorical variables to integers and create dummy variables\n",
        "indexer1 = [StringIndexer(inputCol=column, outputCol=column+\"_index\").fit(raw_data) for column in cat_cols] \n",
        "indexer2 = [StringIndexer(inputCol='NObeyesdad', outputCol='label')]\n",
        "\n",
        "stages = indexer1 + indexer2\n",
        "\n",
        "# Assemble a feature vector\n",
        "feature_cols = numeric_features + cat_cols_ind\n",
        "\n",
        "stages.append(VectorAssembler(inputCols=feature_cols, outputCol='vectorized_features'))\n",
        "\n",
        "# scale the vectorized features since the values are on different scales. \n",
        "# chosen to use MaxAbsScaler which rescales each feature to range [-1, 1] by dividing through the maximum absolute value in each feature. \n",
        "# It does not shift/center the data, and thus does not destroy any sparsity.\n",
        "\n",
        "scaler = MaxAbsScaler(inputCol=\"vectorized_features\", outputCol=\"features\")\n",
        "stages.append(scaler)\n",
        "pipeline = Pipeline(stages=stages)\n"
      ],
      "metadata": {
        "id": "PxAJi4FcSl39"
      },
      "execution_count": 192,
      "outputs": []
    },
    {
      "cell_type": "code",
      "source": [
        "# apply pipeline to transform the data\n",
        "data_transformed = pipeline.fit(raw_data).transform(raw_data)"
      ],
      "metadata": {
        "id": "xibjOGDjlRJR"
      },
      "execution_count": 193,
      "outputs": []
    },
    {
      "cell_type": "code",
      "source": [
        "# split the data into train, test\n",
        "seed = 10  # set seed for reproducibility\n",
        "trainDF, testDF = data_transformed.randomSplit([0.8,0.2],seed)"
      ],
      "metadata": {
        "id": "sJLmFuUVm3iY"
      },
      "execution_count": 194,
      "outputs": []
    },
    {
      "cell_type": "markdown",
      "source": [
        "### Logistic Regression"
      ],
      "metadata": {
        "id": "YgrUqxRERodc"
      }
    },
    {
      "cell_type": "code",
      "source": [
        "from pyspark.ml.classification import LogisticRegression\n",
        "from pyspark.ml.tuning import CrossValidator, ParamGridBuilder\n",
        "import numpy as np\n",
        "\n",
        "# run crossvalidation to try to find the best model\n",
        "lr = LogisticRegression(maxIter = 10,regParam=0.3, elasticNetParam=0.8) #multinomial logistic (softmax) regression with elastic net regularization\n",
        "\n",
        "# assigning hyperparameters\n",
        "paramGrid_lr = ParamGridBuilder() \\\n",
        "    .addGrid(lr.regParam, np.linspace(0.3, 0.01, 10)) \\\n",
        "    .addGrid(lr.elasticNetParam, np.linspace(0.3, 0.8, 6)) \\\n",
        "    .build()\n",
        "\n",
        "crossval_lr = CrossValidator(estimator=lr,\n",
        "                          estimatorParamMaps=paramGrid_lr,\n",
        "                          evaluator=BinaryClassificationEvaluator(),\n",
        "                          numFolds= 5)  \n",
        "cvModel_lr = crossval_lr.fit(trainDF)\n",
        "best_model_lr = cvModel_lr.bestModel.summary"
      ],
      "metadata": {
        "id": "DcftC6ENo6ZO"
      },
      "execution_count": 242,
      "outputs": []
    },
    {
      "cell_type": "code",
      "source": [
        "predictions_lr_on_train = cvModel_lr.transform(trainDF)\n",
        "predictions_lr_on_test = cvModel_lr.transform(testDF)\n"
      ],
      "metadata": {
        "id": "xp-qTmA2RU4H"
      },
      "execution_count": 243,
      "outputs": []
    },
    {
      "cell_type": "code",
      "source": [
        "#compare accuracy on both train and test datasets\n",
        "\n",
        "from pyspark.ml.evaluation import BinaryClassificationEvaluator, MulticlassClassificationEvaluator\n",
        " \n",
        "bcEvaluator_on_train = BinaryClassificationEvaluator(metricName=\"areaUnderROC\")\n",
        "print(f\"Area under ROC curve on train dataset: {bcEvaluator_on_train.evaluate(predictions_lr_on_train)}\")\n",
        " \n",
        "mcEvaluator_on_train = MulticlassClassificationEvaluator(metricName=\"accuracy\")\n",
        "print(f\"Accuracy on train dataset: {mcEvaluator_on_train.evaluate(predictions_lr_on_train)}\")\n",
        "\n",
        "bcEvaluator_on_test = BinaryClassificationEvaluator(metricName=\"areaUnderROC\")\n",
        "print(f\"Area under ROC curve on test dataset: {bcEvaluator_on_test.evaluate(predictions_lr_on_test)}\")\n",
        " \n",
        "mcEvaluator_on_test = MulticlassClassificationEvaluator(metricName=\"accuracy\")\n",
        "print(f\"Accuracy on test dataset: {mcEvaluator_on_test.evaluate(predictions_lr_on_test)}\")"
      ],
      "metadata": {
        "colab": {
          "base_uri": "https://localhost:8080/"
        },
        "id": "LpQAG6DrodEG",
        "outputId": "e295182a-f486-43bc-bb31-d56174353337"
      },
      "execution_count": 244,
      "outputs": [
        {
          "output_type": "stream",
          "name": "stdout",
          "text": [
            "Area under ROC curve on train dataset: 0.5094521878363126\n",
            "Accuracy on train dataset: 0.4199881023200476\n",
            "Area under ROC curve on test dataset: 0.5290601011708937\n",
            "Accuracy on test dataset: 0.37906976744186044\n"
          ]
        }
      ]
    },
    {
      "cell_type": "code",
      "source": [
        "# get confusion matrix\n",
        "predictions_lr_on_test.groupBy('label','prediction').count().show()"
      ],
      "metadata": {
        "id": "U7LcwPWARTT_",
        "colab": {
          "base_uri": "https://localhost:8080/"
        },
        "outputId": "7291f9f6-9fa2-427f-eed7-8019a1bb1bdc"
      },
      "execution_count": 245,
      "outputs": [
        {
          "output_type": "stream",
          "name": "stdout",
          "text": [
            "+-----+----------+-----+\n",
            "|label|prediction|count|\n",
            "+-----+----------+-----+\n",
            "|  4.0|       6.0|    1|\n",
            "|  5.0|       1.0|    9|\n",
            "|  5.0|       2.0|    9|\n",
            "|  1.0|       1.0|   68|\n",
            "|  3.0|       2.0|   20|\n",
            "|  4.0|       2.0|   39|\n",
            "|  0.0|       1.0|   34|\n",
            "|  2.0|       2.0|   48|\n",
            "|  3.0|       1.0|   22|\n",
            "|  6.0|       6.0|   45|\n",
            "|  5.0|       6.0|   33|\n",
            "|  1.0|       2.0|    1|\n",
            "|  0.0|       0.0|    2|\n",
            "|  3.0|       6.0|   12|\n",
            "|  0.0|       2.0|   45|\n",
            "|  4.0|       0.0|    2|\n",
            "|  3.0|       0.0|    5|\n",
            "|  4.0|       1.0|   20|\n",
            "|  6.0|       0.0|    6|\n",
            "|  5.0|       0.0|    9|\n",
            "+-----+----------+-----+\n",
            "\n"
          ]
        }
      ]
    },
    {
      "cell_type": "code",
      "source": [
        "# confusion matrix\n",
        "import pyspark.sql.functions as F\n",
        "\n",
        "#important: need to cast to float type, and order by prediction\n",
        "preds_and_labels = predictions_lr_on_test.select(['prediction', 'label']).withColumn('label', F.col('label').cast(FloatType())).orderBy('prediction')\n",
        "\n",
        "#select only prediction and label columns\n",
        "preds_and_labels = preds_and_labels.select(['prediction','label'])\n",
        "\n",
        "metrics = MulticlassMetrics(preds_and_labels.rdd.map(tuple))\n",
        "\n",
        "print(metrics.confusionMatrix().toArray())"
      ],
      "metadata": {
        "colab": {
          "base_uri": "https://localhost:8080/"
        },
        "id": "Mgg7bfMGoU0A",
        "outputId": "f723d3a0-099b-4022-c060-4f170aff3a69"
      },
      "execution_count": 263,
      "outputs": [
        {
          "output_type": "stream",
          "name": "stdout",
          "text": [
            "[[ 2. 34. 45.  0.  0.  0.  0.]\n",
            " [ 0. 68.  1.  0.  0.  0.  0.]\n",
            " [ 0.  0. 48.  0.  0.  0.  0.]\n",
            " [ 5. 22. 20.  0.  0.  0. 12.]\n",
            " [ 2. 20. 39.  0.  0.  0.  1.]\n",
            " [ 9.  9.  9.  0.  0.  0. 33.]\n",
            " [ 6.  0.  0.  0.  0.  0. 45.]]\n"
          ]
        }
      ]
    },
    {
      "cell_type": "markdown",
      "source": [
        "The Logistic Regression model did not perform well on this dataset. "
      ],
      "metadata": {
        "id": "-eiRIauo8UtP"
      }
    },
    {
      "cell_type": "markdown",
      "source": [
        "##Decision Tree"
      ],
      "metadata": {
        "id": "2MEa6rOCT-jz"
      }
    },
    {
      "cell_type": "code",
      "source": [
        "from pyspark.ml.classification import DecisionTreeClassifier\n",
        "from pyspark.ml.evaluation import MulticlassClassificationEvaluator\n",
        "from pyspark.mllib.evaluation import MulticlassMetrics\n",
        "from pyspark.sql.types import FloatType\n"
      ],
      "metadata": {
        "id": "wf4l6Y6ARrWO"
      },
      "execution_count": 254,
      "outputs": []
    },
    {
      "cell_type": "code",
      "source": [
        "trainDF_dt = trainDF.withColumnRenamed('label','labelIndex')\n",
        "testDF_dt = testDF.withColumnRenamed('label','labelIndex')\n",
        "\n",
        "dt = DecisionTreeClassifier(labelCol=\"labelIndex\", featuresCol=\"features\")\n",
        "model_dt = dt.fit(trainDF_dt)\n"
      ],
      "metadata": {
        "id": "RdDsYRo6Sou_"
      },
      "execution_count": 235,
      "outputs": []
    },
    {
      "cell_type": "code",
      "source": [
        "# test model on train and test data\n",
        "predictions_dt_on_train = model_dt.transform(trainDF_dt)\n",
        "predictions_dt_on_test = model_dt.transform(testDF_dt)\n"
      ],
      "metadata": {
        "id": "owtVedtwT4S7"
      },
      "execution_count": 236,
      "outputs": []
    },
    {
      "cell_type": "code",
      "source": [
        "predictions_dt_on_train.select(\"prediction\", \"labelIndex\").show(5)\n"
      ],
      "metadata": {
        "colab": {
          "base_uri": "https://localhost:8080/"
        },
        "id": "eRVMBftc0_LN",
        "outputId": "bd6ae5ba-6edd-4ce6-9db6-d8ba58ae9f2f"
      },
      "execution_count": 237,
      "outputs": [
        {
          "output_type": "stream",
          "name": "stdout",
          "text": [
            "+----------+----------+\n",
            "|prediction|labelIndex|\n",
            "+----------+----------+\n",
            "|       0.0|       0.0|\n",
            "|       5.0|       5.0|\n",
            "|       3.0|       3.0|\n",
            "|       5.0|       5.0|\n",
            "|       3.0|       3.0|\n",
            "+----------+----------+\n",
            "only showing top 5 rows\n",
            "\n"
          ]
        }
      ]
    },
    {
      "cell_type": "code",
      "source": [
        "predictions_dt_on_test.select(\"prediction\", \"labelIndex\").show(5)"
      ],
      "metadata": {
        "colab": {
          "base_uri": "https://localhost:8080/"
        },
        "id": "mcEJn-q61Ici",
        "outputId": "1128f7a4-98d7-406e-9acc-d1e947b068c9"
      },
      "execution_count": 238,
      "outputs": [
        {
          "output_type": "stream",
          "name": "stdout",
          "text": [
            "+----------+----------+\n",
            "|prediction|labelIndex|\n",
            "+----------+----------+\n",
            "|       5.0|       5.0|\n",
            "|       5.0|       5.0|\n",
            "|       5.0|       5.0|\n",
            "|       3.0|       3.0|\n",
            "|       3.0|       3.0|\n",
            "+----------+----------+\n",
            "only showing top 5 rows\n",
            "\n"
          ]
        }
      ]
    },
    {
      "cell_type": "code",
      "source": [
        "evaluator = MulticlassClassificationEvaluator(labelCol=\"labelIndex\", predictionCol=\"prediction\",metricName=\"accuracy\")\n",
        "accuracy_on_train = evaluator.evaluate(predictions_dt_on_train)\n",
        "accuracy_on_test = evaluator.evaluate(predictions_dt_on_test)\n",
        "print(\"Accuracy on Train = %g \" % accuracy_on_train)\n",
        "print(\"Accuracy on Test = %g \" % accuracy_on_test)"
      ],
      "metadata": {
        "colab": {
          "base_uri": "https://localhost:8080/"
        },
        "id": "3IjYnMFD1NdS",
        "outputId": "e11e9458-61d9-48dd-858b-8cd14145ba63"
      },
      "execution_count": 249,
      "outputs": [
        {
          "output_type": "stream",
          "name": "stdout",
          "text": [
            "Accuracy on Train = 0.837002 \n",
            "Accuracy on Test = 0.827907 \n"
          ]
        }
      ]
    },
    {
      "cell_type": "code",
      "source": [
        "# confusion matrix\n",
        "\n",
        "preds_and_labels = predictions_dt_on_test.select(['prediction', 'labelIndex']).withColumn('labelIndex', F.col('labelIndex').cast(FloatType())).orderBy('prediction')\n",
        "preds_and_labels = preds_and_labels.select(['prediction','labelIndex'])\n",
        "metrics = MulticlassMetrics(preds_and_labels.rdd.map(tuple))\n",
        "\n",
        "print(metrics.confusionMatrix().toArray())"
      ],
      "metadata": {
        "colab": {
          "base_uri": "https://localhost:8080/"
        },
        "id": "WLjx9pft3aBf",
        "outputId": "b53ce7f9-84ee-45d0-f965-b36a632f3237"
      },
      "execution_count": 262,
      "outputs": [
        {
          "output_type": "stream",
          "name": "stdout",
          "text": [
            "[[77.  0.  1.  2.  1.  0.  0.]\n",
            " [ 0. 68.  1.  0.  0.  0.  0.]\n",
            " [ 2.  0. 46.  0.  0.  0.  0.]\n",
            " [ 1.  0.  0. 36. 20.  2.  0.]\n",
            " [14.  0.  0.  2. 46.  0.  0.]\n",
            " [ 0.  0.  0. 14.  4. 38.  4.]\n",
            " [ 0.  0.  0.  0.  0.  6. 45.]]\n"
          ]
        }
      ]
    },
    {
      "cell_type": "markdown",
      "source": [
        "We see that the Decision Tree classifier did well on our data with majority of the target variables being predicted correctly (diagonal)"
      ],
      "metadata": {
        "id": "Kl9i4NIt756g"
      }
    },
    {
      "cell_type": "markdown",
      "source": [
        "###Gradient Boosted Tree Classifier"
      ],
      "metadata": {
        "id": "s8ZWymYkU-Dl"
      }
    },
    {
      "cell_type": "code",
      "source": [
        ""
      ],
      "metadata": {
        "id": "3ejoerCIU_pL"
      },
      "execution_count": null,
      "outputs": []
    },
    {
      "cell_type": "code",
      "source": [
        ""
      ],
      "metadata": {
        "id": "YKMGJHTvVBOW"
      },
      "execution_count": null,
      "outputs": []
    },
    {
      "cell_type": "code",
      "source": [
        ""
      ],
      "metadata": {
        "id": "K_4rx69_VBB7"
      },
      "execution_count": null,
      "outputs": []
    },
    {
      "cell_type": "markdown",
      "source": [
        "###Naive Bayes"
      ],
      "metadata": {
        "id": "M2mAy0mSVLe4"
      }
    },
    {
      "cell_type": "code",
      "source": [
        ""
      ],
      "metadata": {
        "id": "u7xTeoz7VMse"
      },
      "execution_count": null,
      "outputs": []
    },
    {
      "cell_type": "code",
      "source": [
        ""
      ],
      "metadata": {
        "id": "g9TjnARGVN0Y"
      },
      "execution_count": null,
      "outputs": []
    },
    {
      "cell_type": "code",
      "source": [
        ""
      ],
      "metadata": {
        "id": "anKCBxtwVNo0"
      },
      "execution_count": null,
      "outputs": []
    },
    {
      "cell_type": "markdown",
      "source": [
        "###K-Means Clustering"
      ],
      "metadata": {
        "id": "g3W7KT85VOdD"
      }
    },
    {
      "cell_type": "code",
      "source": [
        ""
      ],
      "metadata": {
        "id": "XGe_Cg5FVXC3"
      },
      "execution_count": null,
      "outputs": []
    },
    {
      "cell_type": "code",
      "source": [
        ""
      ],
      "metadata": {
        "id": "pRz5QHtMVYpI"
      },
      "execution_count": null,
      "outputs": []
    },
    {
      "cell_type": "code",
      "source": [
        ""
      ],
      "metadata": {
        "id": "D3IEgbu1VYeQ"
      },
      "execution_count": null,
      "outputs": []
    },
    {
      "cell_type": "markdown",
      "source": [
        "###Model Comparisons"
      ],
      "metadata": {
        "id": "9UvJsb8TVaBp"
      }
    },
    {
      "cell_type": "code",
      "source": [
        ""
      ],
      "metadata": {
        "id": "O2XMYPKWVeY6"
      },
      "execution_count": null,
      "outputs": []
    },
    {
      "cell_type": "markdown",
      "source": [
        "##Discussion"
      ],
      "metadata": {
        "id": "bnTGbRcQVk7p"
      }
    },
    {
      "cell_type": "markdown",
      "source": [
        "##Conclusion"
      ],
      "metadata": {
        "id": "HHJlwJpdVfRt"
      }
    },
    {
      "cell_type": "markdown",
      "source": [
        ""
      ],
      "metadata": {
        "id": "0XaRBEPBVfGN"
      }
    }
  ]
}